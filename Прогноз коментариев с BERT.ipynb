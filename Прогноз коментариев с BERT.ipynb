{
  "cells": [
    {
      "cell_type": "markdown",
      "metadata": {
        "id": "qnkFRw2uWhJE"
      },
      "source": [
        " <h2> Исследование - Классифицикация коментариев для интернет магазина.  C BERT<a class=\\\"tocSkip\\\"> </h2>\n",
        "\n",
        "Логичным этапом развития проекта является его внедрение в бизнес-концепцию. Зачастую это либо публикация в сети или обновление действующего приложения и передача новых возможностей пользователям. Грамотное внедрение позволяет безболезненно и быстро включить новый функционал в бизнес-процессы и получать выгоду с первого дня использования.\n",
        "\n",
        "В нашем случае интернет-магазин  дает новые возможностей пользователям, происходит запуск новых сервисов. Теперь пользователи могут редактировать и дополнять описания товаров. То есть клиенты предлагают свои правки и комментируют изменения других. Магазину нужен инструмент, который будет искать токсичные комментарии и отправлять их на модерацию. \n",
        "\n",
        "<h2> Цель работы <a class=\\\"tocSkip\\\"> </h2>\n",
        "\n",
        "Построить модель которая умеет классифицировать комментарии на позитивные и негативные. В нашем распоряжении набор данных с разметкой о токсичности правок.\n",
        "Значение метрики качества F1 должно быть не меньше 0.75. \n",
        "\n",
        "<h2> Основные шаги <a class=\\\"tocSkip\\\"> </h2>\n",
        "\n",
        "- Загрузить данные\n",
        "- Проанализировать данные.\n",
        "- Обучить разные модели с различными гиперпараметрами.\n",
        "- Проверить данные на тестовой выборке.\n",
        "- Сделать общий вывод.\n",
        "\n",
        "<h2> Описание данных <a class=\\\"tocSkip\\\"> </h2>\n",
        "\n",
        "Данные находятся в файле /datasets/toxic_comments.csv.\n",
        "\n",
        "Столбец text в нём содержит текст комментария, а toxic — целевой признак."
      ]
    },
    {
      "cell_type": "code",
      "execution_count": 82,
      "metadata": {
        "id": "IXtMOCDNi5No",
        "trusted": false
      },
      "outputs": [],
      "source": [
        "import locale\n",
        "def getpreferredencoding(do_setlocale = True):\n",
        "    return \"UTF-8\"\n",
        "locale.getpreferredencoding = getpreferredencoding"
      ]
    },
    {
      "cell_type": "code",
      "execution_count": 83,
      "metadata": {
        "id": "JLWbF0qIcLEs",
        "trusted": false
      },
      "outputs": [],
      "source": [
        "! pip install torch -q"
      ]
    },
    {
      "cell_type": "code",
      "execution_count": 84,
      "metadata": {
        "colab": {
          "base_uri": "https://localhost:8080/"
        },
        "id": "st54jmE-upI4",
        "outputId": "095b7640-8b73-47f7-819b-18d5b16da720",
        "trusted": false
      },
      "outputs": [
        {
          "name": "stdout",
          "output_type": "stream",
          "text": [
            "Имеются в наличии: 1 gpu\n",
            "Мы будем использовать графический процессор: Tesla T4\n"
          ]
        }
      ],
      "source": [
        "import torch\n",
        "\n",
        "\n",
        "if torch.cuda.is_available():\n",
        "  device = torch.device(\"cuda:0\" if torch.cuda.is_available() else \"cpu\")\n",
        "  print(\"Имеются в наличии:\", torch.cuda.device_count(), 'gpu')\n",
        "  print('Мы будем использовать графический процессор:', torch.cuda.get_device_name())\n",
        "else:\n",
        "  print(\"Не, все фигня, давай по новой...\")\n",
        "  device = torch.device('cpu')"
      ]
    },
    {
      "cell_type": "code",
      "execution_count": 85,
      "metadata": {
        "id": "J7qHKdwccEi5",
        "trusted": false
      },
      "outputs": [],
      "source": [
        "! pip install transformers -q"
      ]
    },
    {
      "cell_type": "code",
      "execution_count": 86,
      "metadata": {
        "id": "ExyxeZKPW4D_",
        "trusted": false
      },
      "outputs": [],
      "source": [
        "!pip install catboost -q"
      ]
    },
    {
      "cell_type": "code",
      "execution_count": 87,
      "metadata": {
        "id": "cl0OMWBBW5Pe",
        "trusted": false
      },
      "outputs": [],
      "source": [
        "!pip install lightgbm -q"
      ]
    },
    {
      "cell_type": "code",
      "execution_count": 88,
      "metadata": {
        "id": "R24uRmlSWlhx",
        "trusted": false
      },
      "outputs": [],
      "source": [
        "# Импоритруем библиотеки \n",
        "\n",
        "import warnings\n",
        "warnings.filterwarnings(\"ignore\")\n",
        "\n",
        "import pandas as pd\n",
        "import numpy as np\n",
        "import seaborn as sns\n",
        "import matplotlib.pyplot as plt\n",
        "from scipy import stats as st\n",
        "from tqdm import notebook\n",
        "\n",
        "from transformers import (\n",
        "    # BertForSequenceClassification,\n",
        "    BertModel,\n",
        "    # get_linear_schedule_with_warmup,\n",
        "    # AdamW, \n",
        "    BertConfig,\n",
        "    BertTokenizer,\n",
        ")\n",
        "\n",
        "from torch.utils.data import (\n",
        "    TensorDataset, \n",
        "    random_split,\n",
        "    DataLoader, \n",
        "    RandomSampler,\n",
        "    SequentialSampler\n",
        ")\n",
        "from sklearn.linear_model import LogisticRegression\n",
        "from catboost import CatBoostClassifier\n",
        "from lightgbm import LGBMClassifier\n",
        "\n",
        "from sklearn.model_selection import (\n",
        "    train_test_split,\n",
        "    cross_val_score\n",
        ") \n",
        "\n",
        "from sklearn.metrics import f1_score\n",
        "\n",
        "# from sklearn.preprocessing import StandardScaler"
      ]
    },
    {
      "cell_type": "markdown",
      "metadata": {
        "id": "19wl4ktDo14c"
      },
      "source": [
        "## Загрузка данных"
      ]
    },
    {
      "cell_type": "code",
      "execution_count": 89,
      "metadata": {
        "id": "LbyMgt7eWtVR",
        "trusted": false
      },
      "outputs": [],
      "source": [
        "# Прочитаем файл и запишем в переменную df\n",
        "# Используем метод Tru - Except для стабильного подключения, в случаее если первый вариант пути будет не обнаружен.\n",
        "\n",
        "try:\n",
        "    df = pd.read_csv('/Users/ilyashirikov/Downloads/toxic_comments.csv')\n",
        "except:\n",
        "    df = pd.read_csv('https://code.s3.yandex.net/datasets/toxic_comments.csv')"
      ]
    },
    {
      "cell_type": "code",
      "execution_count": 90,
      "metadata": {
        "colab": {
          "base_uri": "https://localhost:8080/",
          "height": 1000
        },
        "id": "pjj9uIU9Wv3D",
        "outputId": "08f4463b-3dc6-4e1a-cb36-1268e22ba405",
        "trusted": false
      },
      "outputs": [
        {
          "name": "stdout",
          "output_type": "stream",
          "text": [
            "<class 'pandas.core.frame.DataFrame'>\n",
            "RangeIndex: 159292 entries, 0 to 159291\n",
            "Data columns (total 3 columns):\n",
            " #   Column      Non-Null Count   Dtype \n",
            "---  ------      --------------   ----- \n",
            " 0   Unnamed: 0  159292 non-null  int64 \n",
            " 1   text        159292 non-null  object\n",
            " 2   toxic       159292 non-null  int64 \n",
            "dtypes: int64(2), object(1)\n",
            "memory usage: 3.6+ MB\n"
          ]
        },
        {
          "data": {
            "text/html": [
              "\n",
              "  <div id=\"df-87380dee-b659-4106-81fa-bbd2c632845b\">\n",
              "    <div class=\"colab-df-container\">\n",
              "      <div>\n",
              "<style scoped>\n",
              "    .dataframe tbody tr th:only-of-type {\n",
              "        vertical-align: middle;\n",
              "    }\n",
              "\n",
              "    .dataframe tbody tr th {\n",
              "        vertical-align: top;\n",
              "    }\n",
              "\n",
              "    .dataframe thead th {\n",
              "        text-align: right;\n",
              "    }\n",
              "</style>\n",
              "<table border=\"1\" class=\"dataframe\">\n",
              "  <thead>\n",
              "    <tr style=\"text-align: right;\">\n",
              "      <th></th>\n",
              "      <th>Unnamed: 0</th>\n",
              "      <th>text</th>\n",
              "      <th>toxic</th>\n",
              "    </tr>\n",
              "  </thead>\n",
              "  <tbody>\n",
              "    <tr>\n",
              "      <th>0</th>\n",
              "      <td>0</td>\n",
              "      <td>Explanation\\nWhy the edits made under my usern...</td>\n",
              "      <td>0</td>\n",
              "    </tr>\n",
              "    <tr>\n",
              "      <th>1</th>\n",
              "      <td>1</td>\n",
              "      <td>D'aww! He matches this background colour I'm s...</td>\n",
              "      <td>0</td>\n",
              "    </tr>\n",
              "    <tr>\n",
              "      <th>2</th>\n",
              "      <td>2</td>\n",
              "      <td>Hey man, I'm really not trying to edit war. It...</td>\n",
              "      <td>0</td>\n",
              "    </tr>\n",
              "    <tr>\n",
              "      <th>3</th>\n",
              "      <td>3</td>\n",
              "      <td>\"\\nMore\\nI can't make any real suggestions on ...</td>\n",
              "      <td>0</td>\n",
              "    </tr>\n",
              "    <tr>\n",
              "      <th>4</th>\n",
              "      <td>4</td>\n",
              "      <td>You, sir, are my hero. Any chance you remember...</td>\n",
              "      <td>0</td>\n",
              "    </tr>\n",
              "    <tr>\n",
              "      <th>5</th>\n",
              "      <td>5</td>\n",
              "      <td>\"\\n\\nCongratulations from me as well, use the ...</td>\n",
              "      <td>0</td>\n",
              "    </tr>\n",
              "    <tr>\n",
              "      <th>6</th>\n",
              "      <td>6</td>\n",
              "      <td>COCKSUCKER BEFORE YOU PISS AROUND ON MY WORK</td>\n",
              "      <td>1</td>\n",
              "    </tr>\n",
              "    <tr>\n",
              "      <th>7</th>\n",
              "      <td>7</td>\n",
              "      <td>Your vandalism to the Matt Shirvington article...</td>\n",
              "      <td>0</td>\n",
              "    </tr>\n",
              "    <tr>\n",
              "      <th>8</th>\n",
              "      <td>8</td>\n",
              "      <td>Sorry if the word 'nonsense' was offensive to ...</td>\n",
              "      <td>0</td>\n",
              "    </tr>\n",
              "    <tr>\n",
              "      <th>9</th>\n",
              "      <td>9</td>\n",
              "      <td>alignment on this subject and which are contra...</td>\n",
              "      <td>0</td>\n",
              "    </tr>\n",
              "  </tbody>\n",
              "</table>\n",
              "</div>\n",
              "      <button class=\"colab-df-convert\" onclick=\"convertToInteractive('df-87380dee-b659-4106-81fa-bbd2c632845b')\"\n",
              "              title=\"Convert this dataframe to an interactive table.\"\n",
              "              style=\"display:none;\">\n",
              "        \n",
              "  <svg xmlns=\"http://www.w3.org/2000/svg\" height=\"24px\"viewBox=\"0 0 24 24\"\n",
              "       width=\"24px\">\n",
              "    <path d=\"M0 0h24v24H0V0z\" fill=\"none\"/>\n",
              "    <path d=\"M18.56 5.44l.94 2.06.94-2.06 2.06-.94-2.06-.94-.94-2.06-.94 2.06-2.06.94zm-11 1L8.5 8.5l.94-2.06 2.06-.94-2.06-.94L8.5 2.5l-.94 2.06-2.06.94zm10 10l.94 2.06.94-2.06 2.06-.94-2.06-.94-.94-2.06-.94 2.06-2.06.94z\"/><path d=\"M17.41 7.96l-1.37-1.37c-.4-.4-.92-.59-1.43-.59-.52 0-1.04.2-1.43.59L10.3 9.45l-7.72 7.72c-.78.78-.78 2.05 0 2.83L4 21.41c.39.39.9.59 1.41.59.51 0 1.02-.2 1.41-.59l7.78-7.78 2.81-2.81c.8-.78.8-2.07 0-2.86zM5.41 20L4 18.59l7.72-7.72 1.47 1.35L5.41 20z\"/>\n",
              "  </svg>\n",
              "      </button>\n",
              "      \n",
              "  <style>\n",
              "    .colab-df-container {\n",
              "      display:flex;\n",
              "      flex-wrap:wrap;\n",
              "      gap: 12px;\n",
              "    }\n",
              "\n",
              "    .colab-df-convert {\n",
              "      background-color: #E8F0FE;\n",
              "      border: none;\n",
              "      border-radius: 50%;\n",
              "      cursor: pointer;\n",
              "      display: none;\n",
              "      fill: #1967D2;\n",
              "      height: 32px;\n",
              "      padding: 0 0 0 0;\n",
              "      width: 32px;\n",
              "    }\n",
              "\n",
              "    .colab-df-convert:hover {\n",
              "      background-color: #E2EBFA;\n",
              "      box-shadow: 0px 1px 2px rgba(60, 64, 67, 0.3), 0px 1px 3px 1px rgba(60, 64, 67, 0.15);\n",
              "      fill: #174EA6;\n",
              "    }\n",
              "\n",
              "    [theme=dark] .colab-df-convert {\n",
              "      background-color: #3B4455;\n",
              "      fill: #D2E3FC;\n",
              "    }\n",
              "\n",
              "    [theme=dark] .colab-df-convert:hover {\n",
              "      background-color: #434B5C;\n",
              "      box-shadow: 0px 1px 3px 1px rgba(0, 0, 0, 0.15);\n",
              "      filter: drop-shadow(0px 1px 2px rgba(0, 0, 0, 0.3));\n",
              "      fill: #FFFFFF;\n",
              "    }\n",
              "  </style>\n",
              "\n",
              "      <script>\n",
              "        const buttonEl =\n",
              "          document.querySelector('#df-87380dee-b659-4106-81fa-bbd2c632845b button.colab-df-convert');\n",
              "        buttonEl.style.display =\n",
              "          google.colab.kernel.accessAllowed ? 'block' : 'none';\n",
              "\n",
              "        async function convertToInteractive(key) {\n",
              "          const element = document.querySelector('#df-87380dee-b659-4106-81fa-bbd2c632845b');\n",
              "          const dataTable =\n",
              "            await google.colab.kernel.invokeFunction('convertToInteractive',\n",
              "                                                     [key], {});\n",
              "          if (!dataTable) return;\n",
              "\n",
              "          const docLinkHtml = 'Like what you see? Visit the ' +\n",
              "            '<a target=\"_blank\" href=https://colab.research.google.com/notebooks/data_table.ipynb>data table notebook</a>'\n",
              "            + ' to learn more about interactive tables.';\n",
              "          element.innerHTML = '';\n",
              "          dataTable['output_type'] = 'display_data';\n",
              "          await google.colab.output.renderOutput(dataTable, element);\n",
              "          const docLink = document.createElement('div');\n",
              "          docLink.innerHTML = docLinkHtml;\n",
              "          element.appendChild(docLink);\n",
              "        }\n",
              "      </script>\n",
              "    </div>\n",
              "  </div>\n",
              "  "
            ],
            "text/plain": [
              "   Unnamed: 0                                               text  toxic\n",
              "0           0  Explanation\\nWhy the edits made under my usern...      0\n",
              "1           1  D'aww! He matches this background colour I'm s...      0\n",
              "2           2  Hey man, I'm really not trying to edit war. It...      0\n",
              "3           3  \"\\nMore\\nI can't make any real suggestions on ...      0\n",
              "4           4  You, sir, are my hero. Any chance you remember...      0\n",
              "5           5  \"\\n\\nCongratulations from me as well, use the ...      0\n",
              "6           6       COCKSUCKER BEFORE YOU PISS AROUND ON MY WORK      1\n",
              "7           7  Your vandalism to the Matt Shirvington article...      0\n",
              "8           8  Sorry if the word 'nonsense' was offensive to ...      0\n",
              "9           9  alignment on this subject and which are contra...      0"
            ]
          },
          "metadata": {},
          "output_type": "display_data"
        },
        {
          "data": {
            "text/html": [
              "\n",
              "  <div id=\"df-d0806482-907a-49b8-8e37-440f0f910096\">\n",
              "    <div class=\"colab-df-container\">\n",
              "      <div>\n",
              "<style scoped>\n",
              "    .dataframe tbody tr th:only-of-type {\n",
              "        vertical-align: middle;\n",
              "    }\n",
              "\n",
              "    .dataframe tbody tr th {\n",
              "        vertical-align: top;\n",
              "    }\n",
              "\n",
              "    .dataframe thead th {\n",
              "        text-align: right;\n",
              "    }\n",
              "</style>\n",
              "<table border=\"1\" class=\"dataframe\">\n",
              "  <thead>\n",
              "    <tr style=\"text-align: right;\">\n",
              "      <th></th>\n",
              "      <th>Unnamed: 0</th>\n",
              "      <th>toxic</th>\n",
              "    </tr>\n",
              "  </thead>\n",
              "  <tbody>\n",
              "    <tr>\n",
              "      <th>count</th>\n",
              "      <td>159292.000000</td>\n",
              "      <td>159292.000000</td>\n",
              "    </tr>\n",
              "    <tr>\n",
              "      <th>mean</th>\n",
              "      <td>79725.697242</td>\n",
              "      <td>0.101612</td>\n",
              "    </tr>\n",
              "    <tr>\n",
              "      <th>std</th>\n",
              "      <td>46028.837471</td>\n",
              "      <td>0.302139</td>\n",
              "    </tr>\n",
              "    <tr>\n",
              "      <th>min</th>\n",
              "      <td>0.000000</td>\n",
              "      <td>0.000000</td>\n",
              "    </tr>\n",
              "    <tr>\n",
              "      <th>25%</th>\n",
              "      <td>39872.750000</td>\n",
              "      <td>0.000000</td>\n",
              "    </tr>\n",
              "    <tr>\n",
              "      <th>50%</th>\n",
              "      <td>79721.500000</td>\n",
              "      <td>0.000000</td>\n",
              "    </tr>\n",
              "    <tr>\n",
              "      <th>75%</th>\n",
              "      <td>119573.250000</td>\n",
              "      <td>0.000000</td>\n",
              "    </tr>\n",
              "    <tr>\n",
              "      <th>max</th>\n",
              "      <td>159450.000000</td>\n",
              "      <td>1.000000</td>\n",
              "    </tr>\n",
              "  </tbody>\n",
              "</table>\n",
              "</div>\n",
              "      <button class=\"colab-df-convert\" onclick=\"convertToInteractive('df-d0806482-907a-49b8-8e37-440f0f910096')\"\n",
              "              title=\"Convert this dataframe to an interactive table.\"\n",
              "              style=\"display:none;\">\n",
              "        \n",
              "  <svg xmlns=\"http://www.w3.org/2000/svg\" height=\"24px\"viewBox=\"0 0 24 24\"\n",
              "       width=\"24px\">\n",
              "    <path d=\"M0 0h24v24H0V0z\" fill=\"none\"/>\n",
              "    <path d=\"M18.56 5.44l.94 2.06.94-2.06 2.06-.94-2.06-.94-.94-2.06-.94 2.06-2.06.94zm-11 1L8.5 8.5l.94-2.06 2.06-.94-2.06-.94L8.5 2.5l-.94 2.06-2.06.94zm10 10l.94 2.06.94-2.06 2.06-.94-2.06-.94-.94-2.06-.94 2.06-2.06.94z\"/><path d=\"M17.41 7.96l-1.37-1.37c-.4-.4-.92-.59-1.43-.59-.52 0-1.04.2-1.43.59L10.3 9.45l-7.72 7.72c-.78.78-.78 2.05 0 2.83L4 21.41c.39.39.9.59 1.41.59.51 0 1.02-.2 1.41-.59l7.78-7.78 2.81-2.81c.8-.78.8-2.07 0-2.86zM5.41 20L4 18.59l7.72-7.72 1.47 1.35L5.41 20z\"/>\n",
              "  </svg>\n",
              "      </button>\n",
              "      \n",
              "  <style>\n",
              "    .colab-df-container {\n",
              "      display:flex;\n",
              "      flex-wrap:wrap;\n",
              "      gap: 12px;\n",
              "    }\n",
              "\n",
              "    .colab-df-convert {\n",
              "      background-color: #E8F0FE;\n",
              "      border: none;\n",
              "      border-radius: 50%;\n",
              "      cursor: pointer;\n",
              "      display: none;\n",
              "      fill: #1967D2;\n",
              "      height: 32px;\n",
              "      padding: 0 0 0 0;\n",
              "      width: 32px;\n",
              "    }\n",
              "\n",
              "    .colab-df-convert:hover {\n",
              "      background-color: #E2EBFA;\n",
              "      box-shadow: 0px 1px 2px rgba(60, 64, 67, 0.3), 0px 1px 3px 1px rgba(60, 64, 67, 0.15);\n",
              "      fill: #174EA6;\n",
              "    }\n",
              "\n",
              "    [theme=dark] .colab-df-convert {\n",
              "      background-color: #3B4455;\n",
              "      fill: #D2E3FC;\n",
              "    }\n",
              "\n",
              "    [theme=dark] .colab-df-convert:hover {\n",
              "      background-color: #434B5C;\n",
              "      box-shadow: 0px 1px 3px 1px rgba(0, 0, 0, 0.15);\n",
              "      filter: drop-shadow(0px 1px 2px rgba(0, 0, 0, 0.3));\n",
              "      fill: #FFFFFF;\n",
              "    }\n",
              "  </style>\n",
              "\n",
              "      <script>\n",
              "        const buttonEl =\n",
              "          document.querySelector('#df-d0806482-907a-49b8-8e37-440f0f910096 button.colab-df-convert');\n",
              "        buttonEl.style.display =\n",
              "          google.colab.kernel.accessAllowed ? 'block' : 'none';\n",
              "\n",
              "        async function convertToInteractive(key) {\n",
              "          const element = document.querySelector('#df-d0806482-907a-49b8-8e37-440f0f910096');\n",
              "          const dataTable =\n",
              "            await google.colab.kernel.invokeFunction('convertToInteractive',\n",
              "                                                     [key], {});\n",
              "          if (!dataTable) return;\n",
              "\n",
              "          const docLinkHtml = 'Like what you see? Visit the ' +\n",
              "            '<a target=\"_blank\" href=https://colab.research.google.com/notebooks/data_table.ipynb>data table notebook</a>'\n",
              "            + ' to learn more about interactive tables.';\n",
              "          element.innerHTML = '';\n",
              "          dataTable['output_type'] = 'display_data';\n",
              "          await google.colab.output.renderOutput(dataTable, element);\n",
              "          const docLink = document.createElement('div');\n",
              "          docLink.innerHTML = docLinkHtml;\n",
              "          element.appendChild(docLink);\n",
              "        }\n",
              "      </script>\n",
              "    </div>\n",
              "  </div>\n",
              "  "
            ],
            "text/plain": [
              "          Unnamed: 0          toxic\n",
              "count  159292.000000  159292.000000\n",
              "mean    79725.697242       0.101612\n",
              "std     46028.837471       0.302139\n",
              "min         0.000000       0.000000\n",
              "25%     39872.750000       0.000000\n",
              "50%     79721.500000       0.000000\n",
              "75%    119573.250000       0.000000\n",
              "max    159450.000000       1.000000"
            ]
          },
          "metadata": {},
          "output_type": "display_data"
        },
        {
          "data": {
            "text/plain": [
              "None"
            ]
          },
          "metadata": {},
          "output_type": "display_data"
        },
        {
          "data": {
            "text/plain": [
              "array([[<Axes: title={'center': 'Unnamed: 0'}>,\n",
              "        <Axes: title={'center': 'toxic'}>]], dtype=object)"
            ]
          },
          "metadata": {},
          "output_type": "display_data"
        },
        {
          "data": {
            "image/png": "[encoded data removed]",
            "text/plain": [
              "<Figure size 640x480 with 2 Axes>"
            ]
          },
          "metadata": {},
          "output_type": "display_data"
        }
      ],
      "source": [
        "# Создадим функцию fanc() для вывода всех необходимых методов показа информации df\n",
        "\n",
        "def info_func(i):\n",
        "    info = display(i.head(10), i.describe(), i.info(), i.hist())\n",
        "\n",
        "info_func(df)"
      ]
    },
    {
      "cell_type": "code",
      "execution_count": 91,
      "metadata": {
        "id": "owueKyd2zsB1",
        "trusted": false
      },
      "outputs": [],
      "source": [
        "df = df.drop('Unnamed: 0', axis=1)"
      ]
    },
    {
      "cell_type": "code",
      "execution_count": 92,
      "metadata": {
        "colab": {
          "base_uri": "https://localhost:8080/"
        },
        "id": "ql1qXtEvelQn",
        "outputId": "69c0c3c9-d57a-4fff-fdfb-9f412b7a69c6",
        "trusted": false
      },
      "outputs": [
        {
          "data": {
            "text/plain": [
              "0    17960\n",
              "1     2040\n",
              "Name: toxic, dtype: int64"
            ]
          },
          "execution_count": 92,
          "metadata": {},
          "output_type": "execute_result"
        }
      ],
      "source": [
        "df = df.sample(20000).reset_index(drop=True)\n",
        "df.toxic.value_counts()"
      ]
    },
    {
      "cell_type": "code",
      "execution_count": 93,
      "metadata": {
        "colab": {
          "base_uri": "https://localhost:8080/",
          "height": 482
        },
        "id": "Exy8wFxpqC4i",
        "outputId": "b3753cb8-d235-41a8-ccdc-41a44c1eb89d"
      },
      "outputs": [
        {
          "data": {
            "image/png": "[encoded data removed]",
            "text/plain": [
              "<Figure size 550x550 with 1 Axes>"
            ]
          },
          "metadata": {},
          "output_type": "display_data"
        }
      ],
      "source": [
        "sns.set_style('darkgrid')\n",
        "df['toxic'].value_counts(normalize=True).plot(kind='pie',figsize=[5.5,5.5], legend=False, autopct='%1.1f%%',labels=['Отзыв не токсичный, класс [0]','Отзыв токсичный, класс [1]'])\n",
        "plt.title('Баланс распределения классов в данных')\n",
        "plt.ylabel('')\n",
        "plt.show()"
      ]
    },
    {
      "cell_type": "markdown",
      "metadata": {
        "id": "JD32hXobpA7R"
      },
      "source": [
        "**Выводы и результаты по анализу и подготовке данных:**\n",
        "- В данных удален лишний столбец, дубликатов и пропусков не обнаоужено\n",
        "- Анализ данных показал дисбаланс целевого признака\n"
      ]
    },
    {
      "cell_type": "code",
      "execution_count": 94,
      "metadata": {
        "id": "WlXKfAcccKai",
        "trusted": false
      },
      "outputs": [],
      "source": [
        "\n",
        "# corpus = df['text'].values\n",
        "\n",
        "# nlp = spacy.load('en_core_web_sm')\n",
        "# regex = re.compile(r'[^a-zA-Z]')\n",
        "\n",
        "# def lemmatize_and_clear_text(text):\n",
        "#     doc = nlp(text)\n",
        "#     lem_text = [token.lemma_.lower() for token in doc if token.is_alpha]\n",
        "#     text_out = ' '.join(lem_text)\n",
        "#     text_out = regex.sub(' ', text_out)\n",
        "#     return text_out\n",
        "\n",
        "# for i in notebook.tqdm(range(len(corpus))):\n",
        "#     corpus[i] = lemmatize_and_clear_text(corpus[i])\n",
        "\n",
        "# df['text_lem'] = pd.Series(corpus)"
      ]
    },
    {
      "cell_type": "code",
      "execution_count": 95,
      "metadata": {
        "id": "n4Sr1xpJZ-dq",
        "trusted": false
      },
      "outputs": [],
      "source": [
        "# corpus_lem = df['text_lem'].values\n",
        "# stopwords = set(stopwords.words('english'))\n",
        "\n",
        "# tf_idf = TfidfVectorizer(stop_words=stopwords)\n",
        "# tf_idf = tf_idf.fit_transform(corpus_lem)\n",
        "\n",
        "# df['tf_idf'] = pd.Series(tf_idf)"
      ]
    },
    {
      "cell_type": "markdown",
      "metadata": {
        "id": "Jyb0M-oFtqAQ"
      },
      "source": [
        "## Реализация BERT"
      ]
    },
    {
      "cell_type": "code",
      "execution_count": 96,
      "metadata": {
        "id": "0obREhBpL13x",
        "trusted": false
      },
      "outputs": [],
      "source": [
        "\n",
        "tokenizer = BertTokenizer.from_pretrained(\"unitary/toxic-bert\" , do_lower_case=True)\n"
      ]
    },
    {
      "cell_type": "code",
      "execution_count": 97,
      "metadata": {
        "colab": {
          "base_uri": "https://localhost:8080/"
        },
        "id": "_2eA0o_OM0RR",
        "outputId": "b6931497-f291-468e-c8c1-a98b376c2e2b",
        "trusted": false
      },
      "outputs": [
        {
          "data": {
            "text/plain": [
              "(20000, 512)"
            ]
          },
          "execution_count": 97,
          "metadata": {},
          "output_type": "execute_result"
        }
      ],
      "source": [
        "tokenized = df.text.apply((lambda x: tokenizer.encode(x, add_special_tokens=True, truncation=True)))\n",
        "\n",
        "max_len = 0\n",
        "for i in tokenized.values:\n",
        "    if len(i) > max_len:\n",
        "        max_len = len(i)\n",
        "\n",
        "padded = np.array([i + [0]*(max_len-len(i)) for i in tokenized.values])\n",
        "\n",
        "attention_mask = np.where(padded != 0, 1, 0)\n",
        "attention_mask.shape\n"
      ]
    },
    {
      "cell_type": "code",
      "execution_count": 98,
      "metadata": {
        "colab": {
          "base_uri": "https://localhost:8080/"
        },
        "id": "NFOo_8_NfQni",
        "outputId": "d5045ea2-c62e-40bd-ca52-19bba0aeb1b2",
        "trusted": false
      },
      "outputs": [
        {
          "name": "stderr",
          "output_type": "stream",
          "text": [
            "Some weights of the model checkpoint at unitary/toxic-bert were not used when initializing BertModel: ['classifier.bias', 'classifier.weight']\n",
            "- This IS expected if you are initializing BertModel from the checkpoint of a model trained on another task or with another architecture (e.g. initializing a BertForSequenceClassification model from a BertForPreTraining model).\n",
            "- This IS NOT expected if you are initializing BertModel from the checkpoint of a model that you expect to be exactly identical (initializing a BertForSequenceClassification model from a BertForSequenceClassification model).\n"
          ]
        }
      ],
      "source": [
        "config = BertConfig.from_pretrained('unitary/toxic-bert')\n",
        "model = BertModel.from_pretrained(\"unitary/toxic-bert\", config=config,)"
      ]
    },
    {
      "cell_type": "code",
      "execution_count": 99,
      "metadata": {
        "colab": {
          "base_uri": "https://localhost:8080/",
          "height": 49,
          "referenced_widgets": [
            "06b198bf1c4443b2a14844e8f5b9b0b4",
            "ebeec94b63c240748bdabbedeaf8a20c",
            "473eb84a4e104112921a1bd09147a666",
            "4e0c4f417a224e0b957d214ce53fa464",
            "fc430862a3bd412ba4a52602c55a470b",
            "a79bb3009b2a4c42a71957569c7ad74e",
            "e7f5cc275c644838b060cf85ce32d20f",
            "199ce3446bd349ce95a0f1bba8409a8b",
            "8fa462a0cbf74c38aa53cf12557abdeb",
            "8cdba0dc636e4c5fa44ab3a2bdf09de5",
            "a891259b240240068e0c12bc43c589cb"
          ]
        },
        "id": "pCxcFC7Z8oIr",
        "outputId": "abaf0dee-c26e-401d-8f5d-334810b100ce",
        "trusted": false
      },
      "outputs": [
        {
          "data": {
            "application/vnd.jupyter.widget-view+json": {
              "model_id": "06b198bf1c4443b2a14844e8f5b9b0b4",
              "version_major": 2,
              "version_minor": 0
            },
            "text/plain": [
              "  0%|          | 0/200 [00:00<?, ?it/s]"
            ]
          },
          "metadata": {},
          "output_type": "display_data"
        }
      ],
      "source": [
        "batch_size = 100\n",
        "embeddings = []\n",
        "\n",
        "\n",
        "for i in notebook.tqdm(range(padded.shape[0] // batch_size)):\n",
        "    batch = torch.LongTensor(padded[batch_size*i:batch_size*(i+1)]) \n",
        "    attention_mask_batch = torch.LongTensor(attention_mask[batch_size*i:batch_size*(i+1)])\n",
        "        \n",
        "    if torch.cuda.is_available():\n",
        "            # move tensors to CUDA device\n",
        "        batch = batch.to(device)            \n",
        "        attention_mask_batch = attention_mask_batch.to(device)\n",
        "        model = model.to(device)\n",
        "        \n",
        "    with torch.no_grad():\n",
        "        batch_embeddings = model(batch, attention_mask=attention_mask_batch)\n",
        "        batch_embeddings = batch_embeddings[0][:, 0, :]\n",
        "    if torch.cuda.is_available():\n",
        "    \n",
        "         batch_embeddings = batch_embeddings.cpu()\n",
        "         embeddings.append(batch_embeddings.numpy())\n"
      ]
    },
    {
      "cell_type": "markdown",
      "metadata": {
        "id": "1B4nStEvtmoG"
      },
      "source": [
        "## Обучение\n",
        "\n",
        "Для обучения были выбраны модели: LogisticRegression, LaitGBMClassifier и CatBoostClassifier"
      ]
    },
    {
      "cell_type": "code",
      "execution_count": 100,
      "metadata": {
        "colab": {
          "base_uri": "https://localhost:8080/"
        },
        "id": "eWSJmvNEM_fN",
        "outputId": "e411de94-d816-4133-b718-a871c83fcbf1",
        "trusted": false
      },
      "outputs": [
        {
          "data": {
            "text/plain": [
              "array([[-0.6099801 , -0.8874288 ,  0.5839276 , ..., -0.6852361 ,\n",
              "         0.47887313,  0.21803352],\n",
              "       [-0.74619913, -0.867783  ,  0.38750178, ..., -0.82489216,\n",
              "         0.4360352 ,  0.23175189],\n",
              "       [ 0.04498926,  0.5355586 ,  0.62209886, ..., -0.2983643 ,\n",
              "         0.22510022,  0.52812225],\n",
              "       ...,\n",
              "       [-0.6865706 , -0.9579159 ,  0.7087435 , ..., -0.75882643,\n",
              "         0.3983448 ,  0.11502219],\n",
              "       [-0.69297814, -1.0314568 ,  0.5406648 , ..., -0.6764253 ,\n",
              "         0.55482984,  0.401732  ],\n",
              "       [-0.6523018 , -0.8091144 ,  0.48002604, ..., -0.7004219 ,\n",
              "         0.39153484, -0.01504377]], dtype=float32)"
            ]
          },
          "execution_count": 100,
          "metadata": {},
          "output_type": "execute_result"
        }
      ],
      "source": [
        "# SIZE = 100_000\n",
        "\n",
        "# df = pd.DataFrame(data={\n",
        "#     'x': map('Текст {}'.format, range(1, SIZE + 1)),\n",
        "#     'y': np.random.choice([0, 0, 0, 1], SIZE)\n",
        "# })\n",
        "\n",
        "# display(df)\n",
        "\n",
        "# _, tmp = train_test_split(df,\n",
        "#                           test_size=600,\n",
        "#                           stratify=df['y'],\n",
        "#                           random_state=42)\n",
        "\n",
        "# print(tmp.shape)\n",
        "# print(tmp['y'].mean())\n",
        "\n",
        "# X_train, X_test, y_train, y_test = train_test_split(tmp.drop('y', axis=1),\n",
        "#                                                      tmp['y'],\n",
        "#                                                      test_size=150,\n",
        "#                                                      stratify=tmp['y'],\n",
        "#                                                      random_state=42)\n",
        "\n",
        "# print(X_train.shape, X_test.shape, y_train.shape, y_test.shape)\n",
        "# print(y_train.mean(), y_test.mean())\n",
        "\n",
        "# display(X_train)\n",
        "# display(y_train)\n",
        "# display(X_test)\n",
        "# display(y_test)\n",
        "\n",
        "features = np.concatenate(embeddings)\n",
        "train = df['toxic']\n",
        "features\n"
      ]
    },
    {
      "cell_type": "code",
      "execution_count": 101,
      "metadata": {
        "id": "5s8f-_O-9Ox9",
        "trusted": false
      },
      "outputs": [],
      "source": [
        "X_train, X_test, y_train, y_test = train_test_split(\n",
        "    features, train, test_size=0.2, random_state=0)"
      ]
    },
    {
      "cell_type": "markdown",
      "metadata": {
        "id": "lBYP1xnNuaBm"
      },
      "source": [
        "### Логистическая регрессия"
      ]
    },
    {
      "cell_type": "code",
      "execution_count": 102,
      "metadata": {
        "colab": {
          "base_uri": "https://localhost:8080/"
        },
        "id": "G2dyqMJdxavm",
        "outputId": "79c6fe89-7818-47e4-b564-e32d99af0179",
        "trusted": false
      },
      "outputs": [
        {
          "name": "stdout",
          "output_type": "stream",
          "text": [
            "F1 для LogisticRegression на обучающей выборке: 0.94\n"
          ]
        }
      ],
      "source": [
        "model_lg = LogisticRegression(random_state=0)\n",
        "F1_lg = cross_val_score(model_lg, X_train, y_train, scoring='f1', cv=3, error_score='raise').mean()\n",
        "print(\"F1 для LogisticRegression на обучающей выборке:\", round(F1_lg, 2))"
      ]
    },
    {
      "cell_type": "markdown",
      "metadata": {
        "id": "kqExl-86udLL"
      },
      "source": [
        "### CatBoostClassifier"
      ]
    },
    {
      "cell_type": "code",
      "execution_count": 103,
      "metadata": {
        "colab": {
          "base_uri": "https://localhost:8080/"
        },
        "id": "0t8XBMbt-bt4",
        "outputId": "a770fa69-f258-49e5-db2c-afd4a9109a87",
        "trusted": false
      },
      "outputs": [
        {
          "name": "stdout",
          "output_type": "stream",
          "text": [
            "0:\tlearn: 0.1639144\ttotal: 141ms\tremaining: 13.9s\n",
            "10:\tlearn: 0.0251354\ttotal: 1.26s\tremaining: 10.2s\n",
            "20:\tlearn: 0.0171630\ttotal: 2.31s\tremaining: 8.69s\n",
            "30:\tlearn: 0.0127075\ttotal: 3.38s\tremaining: 7.53s\n",
            "40:\tlearn: 0.0095792\ttotal: 5.26s\tremaining: 7.57s\n",
            "50:\tlearn: 0.0077655\ttotal: 7.09s\tremaining: 6.81s\n",
            "60:\tlearn: 0.0055748\ttotal: 8.17s\tremaining: 5.22s\n",
            "70:\tlearn: 0.0041047\ttotal: 9.24s\tremaining: 3.77s\n",
            "80:\tlearn: 0.0030534\ttotal: 10.3s\tremaining: 2.42s\n",
            "90:\tlearn: 0.0024905\ttotal: 11.4s\tremaining: 1.12s\n",
            "99:\tlearn: 0.0020533\ttotal: 12.3s\tremaining: 0us\n",
            "0:\tlearn: 0.1516524\ttotal: 161ms\tremaining: 16s\n",
            "10:\tlearn: 0.0203637\ttotal: 1.25s\tremaining: 10.1s\n",
            "20:\tlearn: 0.0133671\ttotal: 2.33s\tremaining: 8.76s\n",
            "30:\tlearn: 0.0096668\ttotal: 3.4s\tremaining: 7.58s\n",
            "40:\tlearn: 0.0073478\ttotal: 5.39s\tremaining: 7.76s\n",
            "50:\tlearn: 0.0058133\ttotal: 7.19s\tremaining: 6.91s\n",
            "60:\tlearn: 0.0041604\ttotal: 8.26s\tremaining: 5.28s\n",
            "70:\tlearn: 0.0030310\ttotal: 9.33s\tremaining: 3.81s\n",
            "80:\tlearn: 0.0023034\ttotal: 10.4s\tremaining: 2.44s\n",
            "90:\tlearn: 0.0019180\ttotal: 11.5s\tremaining: 1.13s\n",
            "99:\tlearn: 0.0016401\ttotal: 12.4s\tremaining: 0us\n",
            "0:\tlearn: 0.1441620\ttotal: 142ms\tremaining: 14.1s\n",
            "10:\tlearn: 0.0242379\ttotal: 1.22s\tremaining: 9.87s\n",
            "20:\tlearn: 0.0167355\ttotal: 2.31s\tremaining: 8.7s\n",
            "30:\tlearn: 0.0118870\ttotal: 3.38s\tremaining: 7.53s\n",
            "40:\tlearn: 0.0084344\ttotal: 5.37s\tremaining: 7.73s\n",
            "50:\tlearn: 0.0057341\ttotal: 7.18s\tremaining: 6.9s\n",
            "60:\tlearn: 0.0043697\ttotal: 8.25s\tremaining: 5.27s\n",
            "70:\tlearn: 0.0033195\ttotal: 9.3s\tremaining: 3.8s\n",
            "80:\tlearn: 0.0026770\ttotal: 10.4s\tremaining: 2.43s\n",
            "90:\tlearn: 0.0021489\ttotal: 11.4s\tremaining: 1.13s\n",
            "99:\tlearn: 0.0017591\ttotal: 12.4s\tremaining: 0us\n",
            "F1 для CatBoostClassifier на обучающей выборке: 0.93\n"
          ]
        }
      ],
      "source": [
        "cat = CatBoostClassifier(iterations=100,\n",
        "                        random_state=0,\n",
        "                        learning_rate=0.4,\n",
        "                        depth=5,\n",
        "                        verbose=10)\n",
        "\n",
        "F1_cat = cross_val_score(cat, X_train, y_train, scoring='f1', cv=3, error_score='raise').mean()\n",
        "print(\"F1 для CatBoostClassifier на обучающей выборке:\", round(F1_cat, 2))"
      ]
    },
    {
      "cell_type": "markdown",
      "metadata": {
        "id": "V2Xxe5E9ulI1"
      },
      "source": [
        "### LGBMClassifier"
      ]
    },
    {
      "cell_type": "code",
      "execution_count": 104,
      "metadata": {
        "colab": {
          "base_uri": "https://localhost:8080/"
        },
        "id": "LqzWEFOpA0vv",
        "outputId": "3efd4d4e-992e-41f9-9f14-a9bd8b58c52f",
        "trusted": false
      },
      "outputs": [
        {
          "name": "stdout",
          "output_type": "stream",
          "text": [
            "[LightGBM] [Warning] Unknown parameter: depth\n",
            "[LightGBM] [Warning] Unknown parameter: iterations\n",
            "[LightGBM] [Warning] Unknown parameter: depth\n",
            "[LightGBM] [Warning] Unknown parameter: iterations\n",
            "[LightGBM] [Info] Number of positive: 1105, number of negative: 9561\n",
            "[LightGBM] [Debug] Dataset::GetMultiBinFromAllFeatures: sparse rate 0.000000\n",
            "[LightGBM] [Debug] init for col-wise cost 0.000047 seconds, init for row-wise cost 0.167585 seconds\n",
            "[LightGBM] [Warning] Auto-choosing col-wise multi-threading, the overhead of testing was 0.204896 seconds.\n",
            "You can set `force_col_wise=true` to remove the overhead.\n",
            "[LightGBM] [Info] Total Bins 195840\n",
            "[LightGBM] [Info] Number of data points in the train set: 10666, number of used features: 768\n",
            "[LightGBM] [Info] [binary:BoostFromScore]: pavg=0.103600 -> initscore=-2.157847\n",
            "[LightGBM] [Info] Start training from score -2.157847\n",
            "[LightGBM] [Debug] Trained a tree with leaves = 31 and depth = 12\n",
            "[LightGBM] [Debug] Trained a tree with leaves = 31 and depth = 11\n",
            "[LightGBM] [Debug] Trained a tree with leaves = 31 and depth = 10\n",
            "[LightGBM] [Debug] Trained a tree with leaves = 31 and depth = 9\n",
            "[LightGBM] [Debug] Trained a tree with leaves = 31 and depth = 12\n",
            "[LightGBM] [Debug] Trained a tree with leaves = 31 and depth = 11\n",
            "[LightGBM] [Debug] Trained a tree with leaves = 31 and depth = 11\n",
            "[LightGBM] [Debug] Trained a tree with leaves = 31 and depth = 10\n",
            "[LightGBM] [Debug] Trained a tree with leaves = 31 and depth = 10\n",
            "[LightGBM] [Debug] Trained a tree with leaves = 31 and depth = 10\n",
            "[LightGBM] [Debug] Trained a tree with leaves = 31 and depth = 12\n",
            "[LightGBM] [Debug] Trained a tree with leaves = 31 and depth = 10\n",
            "[LightGBM] [Debug] Trained a tree with leaves = 31 and depth = 9\n",
            "[LightGBM] [Debug] Trained a tree with leaves = 31 and depth = 10\n",
            "[LightGBM] [Debug] Trained a tree with leaves = 31 and depth = 12\n",
            "[LightGBM] [Debug] Trained a tree with leaves = 31 and depth = 12\n",
            "[LightGBM] [Debug] Trained a tree with leaves = 31 and depth = 13\n",
            "[LightGBM] [Debug] Trained a tree with leaves = 31 and depth = 10\n",
            "[LightGBM] [Debug] Trained a tree with leaves = 31 and depth = 12\n",
            "[LightGBM] [Debug] Trained a tree with leaves = 31 and depth = 13\n",
            "[LightGBM] [Debug] Trained a tree with leaves = 31 and depth = 10\n",
            "[LightGBM] [Debug] Trained a tree with leaves = 31 and depth = 9\n",
            "[LightGBM] [Debug] Trained a tree with leaves = 31 and depth = 10\n",
            "[LightGBM] [Debug] Trained a tree with leaves = 31 and depth = 11\n",
            "[LightGBM] [Debug] Trained a tree with leaves = 31 and depth = 12\n",
            "[LightGBM] [Debug] Trained a tree with leaves = 31 and depth = 8\n",
            "[LightGBM] [Debug] Trained a tree with leaves = 31 and depth = 10\n",
            "[LightGBM] [Debug] Trained a tree with leaves = 31 and depth = 9\n",
            "[LightGBM] [Debug] Trained a tree with leaves = 31 and depth = 8\n",
            "[LightGBM] [Debug] Trained a tree with leaves = 31 and depth = 15\n",
            "[LightGBM] [Debug] Trained a tree with leaves = 31 and depth = 8\n",
            "[LightGBM] [Debug] Trained a tree with leaves = 31 and depth = 10\n",
            "[LightGBM] [Debug] Trained a tree with leaves = 31 and depth = 11\n",
            "[LightGBM] [Debug] Trained a tree with leaves = 31 and depth = 9\n",
            "[LightGBM] [Debug] Trained a tree with leaves = 31 and depth = 9\n",
            "[LightGBM] [Debug] Trained a tree with leaves = 31 and depth = 9\n",
            "[LightGBM] [Debug] Trained a tree with leaves = 31 and depth = 11\n",
            "[LightGBM] [Warning] No further splits with positive gain, best gain: -inf\n",
            "[LightGBM] [Debug] Trained a tree with leaves = 30 and depth = 11\n",
            "[LightGBM] [Warning] No further splits with positive gain, best gain: -inf\n",
            "[LightGBM] [Debug] Trained a tree with leaves = 26 and depth = 11\n",
            "[LightGBM] [Warning] No further splits with positive gain, best gain: -inf\n",
            "[LightGBM] [Debug] Trained a tree with leaves = 22 and depth = 7\n",
            "[LightGBM] [Warning] No further splits with positive gain, best gain: -inf\n",
            "[LightGBM] [Debug] Trained a tree with leaves = 19 and depth = 8\n",
            "[LightGBM] [Warning] No further splits with positive gain, best gain: -inf\n",
            "[LightGBM] [Debug] Trained a tree with leaves = 15 and depth = 8\n",
            "[LightGBM] [Warning] No further splits with positive gain, best gain: -inf\n",
            "[LightGBM] [Debug] Trained a tree with leaves = 15 and depth = 8\n",
            "[LightGBM] [Warning] No further splits with positive gain, best gain: -inf\n",
            "[LightGBM] [Debug] Trained a tree with leaves = 11 and depth = 7\n",
            "[LightGBM] [Warning] No further splits with positive gain, best gain: -inf\n",
            "[LightGBM] [Debug] Trained a tree with leaves = 12 and depth = 6\n",
            "[LightGBM] [Warning] No further splits with positive gain, best gain: -inf\n",
            "[LightGBM] [Debug] Trained a tree with leaves = 10 and depth = 8\n",
            "[LightGBM] [Warning] No further splits with positive gain, best gain: -inf\n",
            "[LightGBM] [Debug] Trained a tree with leaves = 9 and depth = 6\n",
            "[LightGBM] [Warning] No further splits with positive gain, best gain: -inf\n",
            "[LightGBM] [Debug] Trained a tree with leaves = 9 and depth = 6\n",
            "[LightGBM] [Warning] No further splits with positive gain, best gain: -inf\n",
            "[LightGBM] [Debug] Trained a tree with leaves = 8 and depth = 6\n",
            "[LightGBM] [Warning] No further splits with positive gain, best gain: -inf\n",
            "[LightGBM] [Debug] Trained a tree with leaves = 7 and depth = 5\n",
            "[LightGBM] [Warning] No further splits with positive gain, best gain: -inf\n",
            "[LightGBM] [Debug] Trained a tree with leaves = 7 and depth = 4\n",
            "[LightGBM] [Warning] No further splits with positive gain, best gain: -inf\n",
            "[LightGBM] [Debug] Trained a tree with leaves = 7 and depth = 4\n",
            "[LightGBM] [Warning] No further splits with positive gain, best gain: -inf\n",
            "[LightGBM] [Debug] Trained a tree with leaves = 6 and depth = 5\n",
            "[LightGBM] [Warning] No further splits with positive gain, best gain: -inf\n",
            "[LightGBM] [Debug] Trained a tree with leaves = 6 and depth = 5\n",
            "[LightGBM] [Warning] No further splits with positive gain, best gain: -inf\n",
            "[LightGBM] [Debug] Trained a tree with leaves = 5 and depth = 4\n",
            "[LightGBM] [Warning] No further splits with positive gain, best gain: -inf\n",
            "[LightGBM] [Debug] Trained a tree with leaves = 6 and depth = 4\n",
            "[LightGBM] [Warning] No further splits with positive gain, best gain: -inf\n",
            "[LightGBM] [Debug] Trained a tree with leaves = 5 and depth = 4\n",
            "[LightGBM] [Warning] No further splits with positive gain, best gain: -inf\n",
            "[LightGBM] [Debug] Trained a tree with leaves = 5 and depth = 3\n",
            "[LightGBM] [Warning] No further splits with positive gain, best gain: -inf\n",
            "[LightGBM] [Debug] Trained a tree with leaves = 5 and depth = 4\n",
            "[LightGBM] [Warning] No further splits with positive gain, best gain: -inf\n",
            "[LightGBM] [Debug] Trained a tree with leaves = 4 and depth = 3\n",
            "[LightGBM] [Warning] No further splits with positive gain, best gain: -inf\n",
            "[LightGBM] [Debug] Trained a tree with leaves = 5 and depth = 4\n",
            "[LightGBM] [Warning] No further splits with positive gain, best gain: -inf\n",
            "[LightGBM] [Debug] Trained a tree with leaves = 4 and depth = 3\n",
            "[LightGBM] [Warning] No further splits with positive gain, best gain: -inf\n",
            "[LightGBM] [Debug] Trained a tree with leaves = 5 and depth = 4\n",
            "[LightGBM] [Warning] No further splits with positive gain, best gain: -inf\n",
            "[LightGBM] [Debug] Trained a tree with leaves = 4 and depth = 3\n",
            "[LightGBM] [Warning] No further splits with positive gain, best gain: -inf\n",
            "[LightGBM] [Debug] Trained a tree with leaves = 4 and depth = 3\n",
            "[LightGBM] [Warning] No further splits with positive gain, best gain: -inf\n",
            "[LightGBM] [Debug] Trained a tree with leaves = 4 and depth = 3\n",
            "[LightGBM] [Warning] No further splits with positive gain, best gain: -inf\n",
            "[LightGBM] [Debug] Trained a tree with leaves = 4 and depth = 3\n",
            "[LightGBM] [Warning] No further splits with positive gain, best gain: -inf\n",
            "[LightGBM] [Debug] Trained a tree with leaves = 4 and depth = 2\n",
            "[LightGBM] [Warning] No further splits with positive gain, best gain: -inf\n",
            "[LightGBM] [Debug] Trained a tree with leaves = 4 and depth = 2\n",
            "[LightGBM] [Warning] No further splits with positive gain, best gain: -inf\n",
            "[LightGBM] [Debug] Trained a tree with leaves = 4 and depth = 3\n",
            "[LightGBM] [Warning] No further splits with positive gain, best gain: -inf\n",
            "[LightGBM] [Debug] Trained a tree with leaves = 3 and depth = 2\n",
            "[LightGBM] [Warning] No further splits with positive gain, best gain: -inf\n",
            "[LightGBM] [Debug] Trained a tree with leaves = 4 and depth = 2\n",
            "[LightGBM] [Warning] No further splits with positive gain, best gain: -inf\n",
            "[LightGBM] [Debug] Trained a tree with leaves = 3 and depth = 2\n",
            "[LightGBM] [Warning] No further splits with positive gain, best gain: -inf\n",
            "[LightGBM] [Debug] Trained a tree with leaves = 4 and depth = 2\n",
            "[LightGBM] [Warning] No further splits with positive gain, best gain: -inf\n",
            "[LightGBM] [Debug] Trained a tree with leaves = 3 and depth = 2\n",
            "[LightGBM] [Warning] No further splits with positive gain, best gain: -inf\n",
            "[LightGBM] [Debug] Trained a tree with leaves = 4 and depth = 3\n",
            "[LightGBM] [Warning] No further splits with positive gain, best gain: -inf\n",
            "[LightGBM] [Debug] Trained a tree with leaves = 3 and depth = 2\n",
            "[LightGBM] [Warning] No further splits with positive gain, best gain: -inf\n",
            "[LightGBM] [Debug] Trained a tree with leaves = 3 and depth = 2\n",
            "[LightGBM] [Warning] No further splits with positive gain, best gain: -inf\n",
            "[LightGBM] [Debug] Trained a tree with leaves = 4 and depth = 3\n",
            "[LightGBM] [Warning] No further splits with positive gain, best gain: -inf\n",
            "[LightGBM] [Debug] Trained a tree with leaves = 3 and depth = 2\n",
            "[LightGBM] [Warning] No further splits with positive gain, best gain: -inf\n",
            "[LightGBM] [Debug] Trained a tree with leaves = 3 and depth = 2\n",
            "[LightGBM] [Warning] No further splits with positive gain, best gain: -inf\n",
            "[LightGBM] [Debug] Trained a tree with leaves = 3 and depth = 2\n",
            "[LightGBM] [Warning] No further splits with positive gain, best gain: -inf\n",
            "[LightGBM] [Debug] Trained a tree with leaves = 3 and depth = 2\n",
            "[LightGBM] [Warning] No further splits with positive gain, best gain: -inf\n",
            "[LightGBM] [Debug] Trained a tree with leaves = 3 and depth = 2\n",
            "[LightGBM] [Warning] No further splits with positive gain, best gain: -inf\n",
            "[LightGBM] [Debug] Trained a tree with leaves = 3 and depth = 2\n",
            "[LightGBM] [Warning] No further splits with positive gain, best gain: -inf\n",
            "[LightGBM] [Debug] Trained a tree with leaves = 3 and depth = 2\n",
            "[LightGBM] [Warning] No further splits with positive gain, best gain: -inf\n",
            "[LightGBM] [Debug] Trained a tree with leaves = 3 and depth = 2\n",
            "[LightGBM] [Warning] No further splits with positive gain, best gain: -inf\n",
            "[LightGBM] [Debug] Trained a tree with leaves = 3 and depth = 2\n",
            "[LightGBM] [Warning] No further splits with positive gain, best gain: -inf\n",
            "[LightGBM] [Debug] Trained a tree with leaves = 3 and depth = 2\n",
            "[LightGBM] [Warning] No further splits with positive gain, best gain: -inf\n",
            "[LightGBM] [Debug] Trained a tree with leaves = 3 and depth = 2\n",
            "[LightGBM] [Warning] No further splits with positive gain, best gain: -inf\n",
            "[LightGBM] [Debug] Trained a tree with leaves = 3 and depth = 2\n",
            "[LightGBM] [Warning] No further splits with positive gain, best gain: -inf\n",
            "[LightGBM] [Debug] Trained a tree with leaves = 3 and depth = 2\n",
            "[LightGBM] [Warning] No further splits with positive gain, best gain: -inf\n",
            "[LightGBM] [Debug] Trained a tree with leaves = 3 and depth = 2\n",
            "[LightGBM] [Warning] No further splits with positive gain, best gain: -inf\n",
            "[LightGBM] [Debug] Trained a tree with leaves = 3 and depth = 2\n",
            "[LightGBM] [Warning] No further splits with positive gain, best gain: -inf\n",
            "[LightGBM] [Debug] Trained a tree with leaves = 3 and depth = 2\n",
            "[LightGBM] [Warning] No further splits with positive gain, best gain: -inf\n",
            "[LightGBM] [Debug] Trained a tree with leaves = 3 and depth = 2\n",
            "[LightGBM] [Warning] No further splits with positive gain, best gain: -inf\n",
            "[LightGBM] [Debug] Trained a tree with leaves = 3 and depth = 2\n",
            "[LightGBM] [Warning] No further splits with positive gain, best gain: -inf\n",
            "[LightGBM] [Debug] Trained a tree with leaves = 3 and depth = 2\n",
            "[LightGBM] [Warning] No further splits with positive gain, best gain: -inf\n",
            "[LightGBM] [Debug] Trained a tree with leaves = 3 and depth = 2\n",
            "[LightGBM] [Warning] No further splits with positive gain, best gain: -inf\n",
            "[LightGBM] [Debug] Trained a tree with leaves = 3 and depth = 2\n",
            "[LightGBM] [Warning] Unknown parameter: depth\n",
            "[LightGBM] [Warning] Unknown parameter: iterations\n",
            "[LightGBM] [Warning] Unknown parameter: depth\n",
            "[LightGBM] [Warning] Unknown parameter: iterations\n",
            "[LightGBM] [Info] Number of positive: 1106, number of negative: 9561\n",
            "[LightGBM] [Debug] Dataset::GetMultiBinFromAllFeatures: sparse rate 0.000000\n",
            "[LightGBM] [Debug] init for col-wise cost 0.000042 seconds, init for row-wise cost 0.163014 seconds\n",
            "[LightGBM] [Warning] Auto-choosing col-wise multi-threading, the overhead of testing was 0.196993 seconds.\n",
            "You can set `force_col_wise=true` to remove the overhead.\n",
            "[LightGBM] [Info] Total Bins 195840\n",
            "[LightGBM] [Info] Number of data points in the train set: 10667, number of used features: 768\n",
            "[LightGBM] [Info] [binary:BoostFromScore]: pavg=0.103684 -> initscore=-2.156942\n",
            "[LightGBM] [Info] Start training from score -2.156942\n",
            "[LightGBM] [Debug] Trained a tree with leaves = 31 and depth = 12\n",
            "[LightGBM] [Debug] Trained a tree with leaves = 31 and depth = 12\n",
            "[LightGBM] [Debug] Trained a tree with leaves = 31 and depth = 11\n",
            "[LightGBM] [Debug] Trained a tree with leaves = 31 and depth = 10\n",
            "[LightGBM] [Debug] Trained a tree with leaves = 31 and depth = 10\n",
            "[LightGBM] [Debug] Trained a tree with leaves = 31 and depth = 8\n",
            "[LightGBM] [Debug] Trained a tree with leaves = 31 and depth = 10\n",
            "[LightGBM] [Debug] Trained a tree with leaves = 31 and depth = 9\n",
            "[LightGBM] [Debug] Trained a tree with leaves = 31 and depth = 12\n",
            "[LightGBM] [Debug] Trained a tree with leaves = 31 and depth = 12\n",
            "[LightGBM] [Debug] Trained a tree with leaves = 31 and depth = 9\n",
            "[LightGBM] [Debug] Trained a tree with leaves = 31 and depth = 11\n",
            "[LightGBM] [Debug] Trained a tree with leaves = 31 and depth = 12\n",
            "[LightGBM] [Debug] Trained a tree with leaves = 31 and depth = 10\n",
            "[LightGBM] [Debug] Trained a tree with leaves = 31 and depth = 10\n",
            "[LightGBM] [Debug] Trained a tree with leaves = 31 and depth = 11\n",
            "[LightGBM] [Debug] Trained a tree with leaves = 31 and depth = 13\n",
            "[LightGBM] [Debug] Trained a tree with leaves = 31 and depth = 12\n",
            "[LightGBM] [Debug] Trained a tree with leaves = 31 and depth = 15\n",
            "[LightGBM] [Debug] Trained a tree with leaves = 31 and depth = 11\n",
            "[LightGBM] [Debug] Trained a tree with leaves = 31 and depth = 9\n",
            "[LightGBM] [Debug] Trained a tree with leaves = 31 and depth = 9\n",
            "[LightGBM] [Debug] Trained a tree with leaves = 31 and depth = 12\n",
            "[LightGBM] [Debug] Trained a tree with leaves = 31 and depth = 10\n",
            "[LightGBM] [Debug] Trained a tree with leaves = 31 and depth = 9\n",
            "[LightGBM] [Debug] Trained a tree with leaves = 31 and depth = 10\n",
            "[LightGBM] [Debug] Trained a tree with leaves = 31 and depth = 11\n",
            "[LightGBM] [Debug] Trained a tree with leaves = 31 and depth = 9\n",
            "[LightGBM] [Debug] Trained a tree with leaves = 31 and depth = 9\n",
            "[LightGBM] [Debug] Trained a tree with leaves = 31 and depth = 8\n",
            "[LightGBM] [Debug] Trained a tree with leaves = 31 and depth = 10\n",
            "[LightGBM] [Debug] Trained a tree with leaves = 31 and depth = 9\n",
            "[LightGBM] [Debug] Trained a tree with leaves = 31 and depth = 8\n",
            "[LightGBM] [Debug] Trained a tree with leaves = 31 and depth = 10\n",
            "[LightGBM] [Debug] Trained a tree with leaves = 31 and depth = 9\n",
            "[LightGBM] [Debug] Trained a tree with leaves = 31 and depth = 9\n",
            "[LightGBM] [Debug] Trained a tree with leaves = 31 and depth = 10\n",
            "[LightGBM] [Warning] No further splits with positive gain, best gain: -inf\n",
            "[LightGBM] [Debug] Trained a tree with leaves = 25 and depth = 7\n",
            "[LightGBM] [Warning] No further splits with positive gain, best gain: -inf\n",
            "[LightGBM] [Debug] Trained a tree with leaves = 19 and depth = 11\n",
            "[LightGBM] [Warning] No further splits with positive gain, best gain: -inf\n",
            "[LightGBM] [Debug] Trained a tree with leaves = 20 and depth = 11\n",
            "[LightGBM] [Warning] No further splits with positive gain, best gain: -inf\n",
            "[LightGBM] [Debug] Trained a tree with leaves = 15 and depth = 9\n",
            "[LightGBM] [Warning] No further splits with positive gain, best gain: -inf\n",
            "[LightGBM] [Debug] Trained a tree with leaves = 14 and depth = 5\n",
            "[LightGBM] [Warning] No further splits with positive gain, best gain: -inf\n",
            "[LightGBM] [Debug] Trained a tree with leaves = 12 and depth = 6\n",
            "[LightGBM] [Warning] No further splits with positive gain, best gain: -inf\n",
            "[LightGBM] [Debug] Trained a tree with leaves = 11 and depth = 5\n",
            "[LightGBM] [Warning] No further splits with positive gain, best gain: -inf\n",
            "[LightGBM] [Debug] Trained a tree with leaves = 10 and depth = 7\n",
            "[LightGBM] [Warning] No further splits with positive gain, best gain: -inf\n",
            "[LightGBM] [Debug] Trained a tree with leaves = 10 and depth = 5\n",
            "[LightGBM] [Warning] No further splits with positive gain, best gain: -inf\n",
            "[LightGBM] [Debug] Trained a tree with leaves = 8 and depth = 4\n",
            "[LightGBM] [Warning] No further splits with positive gain, best gain: -inf\n",
            "[LightGBM] [Debug] Trained a tree with leaves = 7 and depth = 5\n",
            "[LightGBM] [Warning] No further splits with positive gain, best gain: -inf\n",
            "[LightGBM] [Debug] Trained a tree with leaves = 8 and depth = 3\n",
            "[LightGBM] [Warning] No further splits with positive gain, best gain: -inf\n",
            "[LightGBM] [Debug] Trained a tree with leaves = 7 and depth = 5\n",
            "[LightGBM] [Warning] No further splits with positive gain, best gain: -inf\n",
            "[LightGBM] [Debug] Trained a tree with leaves = 7 and depth = 6\n",
            "[LightGBM] [Warning] No further splits with positive gain, best gain: -inf\n",
            "[LightGBM] [Debug] Trained a tree with leaves = 6 and depth = 5\n",
            "[LightGBM] [Warning] No further splits with positive gain, best gain: -inf\n",
            "[LightGBM] [Debug] Trained a tree with leaves = 5 and depth = 3\n",
            "[LightGBM] [Warning] No further splits with positive gain, best gain: -inf\n",
            "[LightGBM] [Debug] Trained a tree with leaves = 5 and depth = 4\n",
            "[LightGBM] [Warning] No further splits with positive gain, best gain: -inf\n",
            "[LightGBM] [Debug] Trained a tree with leaves = 6 and depth = 4\n",
            "[LightGBM] [Warning] No further splits with positive gain, best gain: -inf\n",
            "[LightGBM] [Debug] Trained a tree with leaves = 6 and depth = 4\n",
            "[LightGBM] [Warning] No further splits with positive gain, best gain: -inf\n",
            "[LightGBM] [Debug] Trained a tree with leaves = 4 and depth = 3\n",
            "[LightGBM] [Warning] No further splits with positive gain, best gain: -inf\n",
            "[LightGBM] [Debug] Trained a tree with leaves = 5 and depth = 3\n",
            "[LightGBM] [Warning] No further splits with positive gain, best gain: -inf\n",
            "[LightGBM] [Debug] Trained a tree with leaves = 4 and depth = 3\n",
            "[LightGBM] [Warning] No further splits with positive gain, best gain: -inf\n",
            "[LightGBM] [Debug] Trained a tree with leaves = 5 and depth = 4\n",
            "[LightGBM] [Warning] No further splits with positive gain, best gain: -inf\n",
            "[LightGBM] [Debug] Trained a tree with leaves = 5 and depth = 3\n",
            "[LightGBM] [Warning] No further splits with positive gain, best gain: -inf\n",
            "[LightGBM] [Debug] Trained a tree with leaves = 3 and depth = 2\n",
            "[LightGBM] [Warning] No further splits with positive gain, best gain: -inf\n",
            "[LightGBM] [Debug] Trained a tree with leaves = 4 and depth = 3\n",
            "[LightGBM] [Warning] No further splits with positive gain, best gain: -inf\n",
            "[LightGBM] [Debug] Trained a tree with leaves = 4 and depth = 3\n",
            "[LightGBM] [Warning] No further splits with positive gain, best gain: -inf\n",
            "[LightGBM] [Debug] Trained a tree with leaves = 3 and depth = 2\n",
            "[LightGBM] [Warning] No further splits with positive gain, best gain: -inf\n",
            "[LightGBM] [Debug] Trained a tree with leaves = 4 and depth = 3\n",
            "[LightGBM] [Warning] No further splits with positive gain, best gain: -inf\n",
            "[LightGBM] [Debug] Trained a tree with leaves = 4 and depth = 3\n",
            "[LightGBM] [Warning] No further splits with positive gain, best gain: -inf\n",
            "[LightGBM] [Debug] Trained a tree with leaves = 4 and depth = 2\n",
            "[LightGBM] [Warning] No further splits with positive gain, best gain: -inf\n",
            "[LightGBM] [Debug] Trained a tree with leaves = 4 and depth = 3\n",
            "[LightGBM] [Warning] No further splits with positive gain, best gain: -inf\n",
            "[LightGBM] [Debug] Trained a tree with leaves = 4 and depth = 3\n",
            "[LightGBM] [Warning] No further splits with positive gain, best gain: -inf\n",
            "[LightGBM] [Debug] Trained a tree with leaves = 3 and depth = 2\n",
            "[LightGBM] [Warning] No further splits with positive gain, best gain: -inf\n",
            "[LightGBM] [Debug] Trained a tree with leaves = 3 and depth = 2\n",
            "[LightGBM] [Warning] No further splits with positive gain, best gain: -inf\n",
            "[LightGBM] [Debug] Trained a tree with leaves = 3 and depth = 2\n",
            "[LightGBM] [Warning] No further splits with positive gain, best gain: -inf\n",
            "[LightGBM] [Debug] Trained a tree with leaves = 4 and depth = 3\n",
            "[LightGBM] [Warning] No further splits with positive gain, best gain: -inf\n",
            "[LightGBM] [Debug] Trained a tree with leaves = 3 and depth = 2\n",
            "[LightGBM] [Warning] No further splits with positive gain, best gain: -inf\n",
            "[LightGBM] [Debug] Trained a tree with leaves = 4 and depth = 3\n",
            "[LightGBM] [Warning] No further splits with positive gain, best gain: -inf\n",
            "[LightGBM] [Debug] Trained a tree with leaves = 3 and depth = 2\n",
            "[LightGBM] [Warning] No further splits with positive gain, best gain: -inf\n",
            "[LightGBM] [Debug] Trained a tree with leaves = 3 and depth = 2\n",
            "[LightGBM] [Warning] No further splits with positive gain, best gain: -inf\n",
            "[LightGBM] [Debug] Trained a tree with leaves = 3 and depth = 2\n",
            "[LightGBM] [Warning] No further splits with positive gain, best gain: -inf\n",
            "[LightGBM] [Debug] Trained a tree with leaves = 3 and depth = 2\n",
            "[LightGBM] [Warning] No further splits with positive gain, best gain: -inf\n",
            "[LightGBM] [Debug] Trained a tree with leaves = 3 and depth = 2\n",
            "[LightGBM] [Warning] No further splits with positive gain, best gain: -inf\n",
            "[LightGBM] [Debug] Trained a tree with leaves = 3 and depth = 2\n",
            "[LightGBM] [Warning] No further splits with positive gain, best gain: -inf\n",
            "[LightGBM] [Debug] Trained a tree with leaves = 3 and depth = 2\n",
            "[LightGBM] [Warning] No further splits with positive gain, best gain: -inf\n",
            "[LightGBM] [Debug] Trained a tree with leaves = 3 and depth = 2\n",
            "[LightGBM] [Warning] No further splits with positive gain, best gain: -inf\n",
            "[LightGBM] [Debug] Trained a tree with leaves = 3 and depth = 2\n",
            "[LightGBM] [Warning] No further splits with positive gain, best gain: -inf\n",
            "[LightGBM] [Debug] Trained a tree with leaves = 3 and depth = 2\n",
            "[LightGBM] [Warning] No further splits with positive gain, best gain: -inf\n",
            "[LightGBM] [Debug] Trained a tree with leaves = 3 and depth = 2\n",
            "[LightGBM] [Warning] No further splits with positive gain, best gain: -inf\n",
            "[LightGBM] [Debug] Trained a tree with leaves = 2 and depth = 1\n",
            "[LightGBM] [Warning] No further splits with positive gain, best gain: -inf\n",
            "[LightGBM] [Debug] Trained a tree with leaves = 3 and depth = 2\n",
            "[LightGBM] [Warning] No further splits with positive gain, best gain: -inf\n",
            "[LightGBM] [Debug] Trained a tree with leaves = 3 and depth = 2\n",
            "[LightGBM] [Warning] No further splits with positive gain, best gain: -inf\n",
            "[LightGBM] [Debug] Trained a tree with leaves = 3 and depth = 2\n",
            "[LightGBM] [Warning] No further splits with positive gain, best gain: -inf\n",
            "[LightGBM] [Debug] Trained a tree with leaves = 2 and depth = 1\n",
            "[LightGBM] [Warning] No further splits with positive gain, best gain: -inf\n",
            "[LightGBM] [Debug] Trained a tree with leaves = 3 and depth = 2\n",
            "[LightGBM] [Warning] No further splits with positive gain, best gain: -inf\n",
            "[LightGBM] [Debug] Trained a tree with leaves = 2 and depth = 1\n",
            "[LightGBM] [Warning] No further splits with positive gain, best gain: -inf\n",
            "[LightGBM] [Debug] Trained a tree with leaves = 2 and depth = 1\n",
            "[LightGBM] [Warning] No further splits with positive gain, best gain: -inf\n",
            "[LightGBM] [Debug] Trained a tree with leaves = 3 and depth = 2\n",
            "[LightGBM] [Warning] No further splits with positive gain, best gain: -inf\n",
            "[LightGBM] [Debug] Trained a tree with leaves = 3 and depth = 2\n",
            "[LightGBM] [Warning] No further splits with positive gain, best gain: -inf\n",
            "[LightGBM] [Debug] Trained a tree with leaves = 2 and depth = 1\n",
            "[LightGBM] [Warning] No further splits with positive gain, best gain: -inf\n",
            "[LightGBM] [Debug] Trained a tree with leaves = 2 and depth = 1\n",
            "[LightGBM] [Warning] No further splits with positive gain, best gain: -inf\n",
            "[LightGBM] [Debug] Trained a tree with leaves = 3 and depth = 2\n",
            "[LightGBM] [Warning] Unknown parameter: depth\n",
            "[LightGBM] [Warning] Unknown parameter: iterations\n",
            "[LightGBM] [Warning] Unknown parameter: depth\n",
            "[LightGBM] [Warning] Unknown parameter: iterations\n",
            "[LightGBM] [Info] Number of positive: 1105, number of negative: 9562\n",
            "[LightGBM] [Debug] Dataset::GetMultiBinFromAllFeatures: sparse rate 0.000000\n",
            "[LightGBM] [Debug] init for col-wise cost 0.000043 seconds, init for row-wise cost 0.176572 seconds\n",
            "[LightGBM] [Warning] Auto-choosing col-wise multi-threading, the overhead of testing was 0.220075 seconds.\n",
            "You can set `force_col_wise=true` to remove the overhead.\n",
            "[LightGBM] [Info] Total Bins 195840\n",
            "[LightGBM] [Info] Number of data points in the train set: 10667, number of used features: 768\n",
            "[LightGBM] [Info] [binary:BoostFromScore]: pavg=0.103591 -> initscore=-2.157952\n",
            "[LightGBM] [Info] Start training from score -2.157952\n",
            "[LightGBM] [Debug] Trained a tree with leaves = 31 and depth = 9\n",
            "[LightGBM] [Debug] Trained a tree with leaves = 31 and depth = 11\n",
            "[LightGBM] [Debug] Trained a tree with leaves = 31 and depth = 10\n",
            "[LightGBM] [Debug] Trained a tree with leaves = 31 and depth = 9\n",
            "[LightGBM] [Debug] Trained a tree with leaves = 31 and depth = 12\n",
            "[LightGBM] [Debug] Trained a tree with leaves = 31 and depth = 9\n",
            "[LightGBM] [Debug] Trained a tree with leaves = 31 and depth = 10\n",
            "[LightGBM] [Debug] Trained a tree with leaves = 31 and depth = 11\n",
            "[LightGBM] [Debug] Trained a tree with leaves = 31 and depth = 10\n",
            "[LightGBM] [Debug] Trained a tree with leaves = 31 and depth = 9\n",
            "[LightGBM] [Debug] Trained a tree with leaves = 31 and depth = 10\n",
            "[LightGBM] [Debug] Trained a tree with leaves = 31 and depth = 9\n",
            "[LightGBM] [Debug] Trained a tree with leaves = 31 and depth = 13\n",
            "[LightGBM] [Debug] Trained a tree with leaves = 31 and depth = 11\n",
            "[LightGBM] [Debug] Trained a tree with leaves = 31 and depth = 10\n",
            "[LightGBM] [Debug] Trained a tree with leaves = 31 and depth = 11\n",
            "[LightGBM] [Debug] Trained a tree with leaves = 31 and depth = 9\n",
            "[LightGBM] [Debug] Trained a tree with leaves = 31 and depth = 10\n",
            "[LightGBM] [Debug] Trained a tree with leaves = 31 and depth = 10\n",
            "[LightGBM] [Debug] Trained a tree with leaves = 31 and depth = 14\n",
            "[LightGBM] [Debug] Trained a tree with leaves = 31 and depth = 10\n",
            "[LightGBM] [Debug] Trained a tree with leaves = 31 and depth = 9\n",
            "[LightGBM] [Debug] Trained a tree with leaves = 31 and depth = 11\n",
            "[LightGBM] [Debug] Trained a tree with leaves = 31 and depth = 10\n",
            "[LightGBM] [Debug] Trained a tree with leaves = 31 and depth = 9\n",
            "[LightGBM] [Debug] Trained a tree with leaves = 31 and depth = 11\n",
            "[LightGBM] [Debug] Trained a tree with leaves = 31 and depth = 11\n",
            "[LightGBM] [Debug] Trained a tree with leaves = 31 and depth = 10\n",
            "[LightGBM] [Debug] Trained a tree with leaves = 31 and depth = 9\n",
            "[LightGBM] [Debug] Trained a tree with leaves = 31 and depth = 10\n",
            "[LightGBM] [Debug] Trained a tree with leaves = 31 and depth = 11\n",
            "[LightGBM] [Debug] Trained a tree with leaves = 31 and depth = 9\n",
            "[LightGBM] [Debug] Trained a tree with leaves = 31 and depth = 11\n",
            "[LightGBM] [Debug] Trained a tree with leaves = 31 and depth = 10\n",
            "[LightGBM] [Debug] Trained a tree with leaves = 31 and depth = 11\n",
            "[LightGBM] [Debug] Trained a tree with leaves = 31 and depth = 10\n",
            "[LightGBM] [Debug] Trained a tree with leaves = 31 and depth = 12\n",
            "[LightGBM] [Warning] No further splits with positive gain, best gain: -inf\n",
            "[LightGBM] [Debug] Trained a tree with leaves = 29 and depth = 11\n",
            "[LightGBM] [Warning] No further splits with positive gain, best gain: -inf\n",
            "[LightGBM] [Debug] Trained a tree with leaves = 23 and depth = 10\n",
            "[LightGBM] [Warning] No further splits with positive gain, best gain: -inf\n",
            "[LightGBM] [Debug] Trained a tree with leaves = 20 and depth = 6\n",
            "[LightGBM] [Warning] No further splits with positive gain, best gain: -inf\n",
            "[LightGBM] [Debug] Trained a tree with leaves = 16 and depth = 8\n",
            "[LightGBM] [Warning] No further splits with positive gain, best gain: -inf\n",
            "[LightGBM] [Debug] Trained a tree with leaves = 14 and depth = 6\n",
            "[LightGBM] [Warning] No further splits with positive gain, best gain: -inf\n",
            "[LightGBM] [Debug] Trained a tree with leaves = 14 and depth = 6\n",
            "[LightGBM] [Warning] No further splits with positive gain, best gain: -inf\n",
            "[LightGBM] [Debug] Trained a tree with leaves = 12 and depth = 6\n",
            "[LightGBM] [Warning] No further splits with positive gain, best gain: -inf\n",
            "[LightGBM] [Debug] Trained a tree with leaves = 10 and depth = 5\n",
            "[LightGBM] [Warning] No further splits with positive gain, best gain: -inf\n",
            "[LightGBM] [Debug] Trained a tree with leaves = 9 and depth = 7\n",
            "[LightGBM] [Warning] No further splits with positive gain, best gain: -inf\n",
            "[LightGBM] [Debug] Trained a tree with leaves = 9 and depth = 5\n",
            "[LightGBM] [Warning] No further splits with positive gain, best gain: -inf\n",
            "[LightGBM] [Debug] Trained a tree with leaves = 9 and depth = 6\n",
            "[LightGBM] [Warning] No further splits with positive gain, best gain: -inf\n",
            "[LightGBM] [Debug] Trained a tree with leaves = 9 and depth = 6\n",
            "[LightGBM] [Warning] No further splits with positive gain, best gain: -inf\n",
            "[LightGBM] [Debug] Trained a tree with leaves = 7 and depth = 4\n",
            "[LightGBM] [Warning] No further splits with positive gain, best gain: -inf\n",
            "[LightGBM] [Debug] Trained a tree with leaves = 8 and depth = 4\n",
            "[LightGBM] [Warning] No further splits with positive gain, best gain: -inf\n",
            "[LightGBM] [Debug] Trained a tree with leaves = 7 and depth = 4\n",
            "[LightGBM] [Warning] No further splits with positive gain, best gain: -inf\n",
            "[LightGBM] [Debug] Trained a tree with leaves = 6 and depth = 4\n",
            "[LightGBM] [Warning] No further splits with positive gain, best gain: -inf\n",
            "[LightGBM] [Debug] Trained a tree with leaves = 6 and depth = 4\n",
            "[LightGBM] [Warning] No further splits with positive gain, best gain: -inf\n",
            "[LightGBM] [Debug] Trained a tree with leaves = 6 and depth = 4\n",
            "[LightGBM] [Warning] No further splits with positive gain, best gain: -inf\n",
            "[LightGBM] [Debug] Trained a tree with leaves = 5 and depth = 3\n",
            "[LightGBM] [Warning] No further splits with positive gain, best gain: -inf\n",
            "[LightGBM] [Debug] Trained a tree with leaves = 6 and depth = 4\n",
            "[LightGBM] [Warning] No further splits with positive gain, best gain: -inf\n",
            "[LightGBM] [Debug] Trained a tree with leaves = 5 and depth = 4\n",
            "[LightGBM] [Warning] No further splits with positive gain, best gain: -inf\n",
            "[LightGBM] [Debug] Trained a tree with leaves = 5 and depth = 3\n",
            "[LightGBM] [Warning] No further splits with positive gain, best gain: -inf\n",
            "[LightGBM] [Debug] Trained a tree with leaves = 4 and depth = 2\n",
            "[LightGBM] [Warning] No further splits with positive gain, best gain: -inf\n",
            "[LightGBM] [Debug] Trained a tree with leaves = 5 and depth = 4\n",
            "[LightGBM] [Warning] No further splits with positive gain, best gain: -inf\n",
            "[LightGBM] [Debug] Trained a tree with leaves = 5 and depth = 4\n",
            "[LightGBM] [Warning] No further splits with positive gain, best gain: -inf\n",
            "[LightGBM] [Debug] Trained a tree with leaves = 4 and depth = 2\n",
            "[LightGBM] [Warning] No further splits with positive gain, best gain: -inf\n",
            "[LightGBM] [Debug] Trained a tree with leaves = 5 and depth = 3\n",
            "[LightGBM] [Warning] No further splits with positive gain, best gain: -inf\n",
            "[LightGBM] [Debug] Trained a tree with leaves = 4 and depth = 2\n",
            "[LightGBM] [Warning] No further splits with positive gain, best gain: -inf\n",
            "[LightGBM] [Debug] Trained a tree with leaves = 4 and depth = 3\n",
            "[LightGBM] [Warning] No further splits with positive gain, best gain: -inf\n",
            "[LightGBM] [Debug] Trained a tree with leaves = 4 and depth = 2\n",
            "[LightGBM] [Warning] No further splits with positive gain, best gain: -inf\n",
            "[LightGBM] [Debug] Trained a tree with leaves = 4 and depth = 3\n",
            "[LightGBM] [Warning] No further splits with positive gain, best gain: -inf\n",
            "[LightGBM] [Debug] Trained a tree with leaves = 3 and depth = 2\n",
            "[LightGBM] [Warning] No further splits with positive gain, best gain: -inf\n",
            "[LightGBM] [Debug] Trained a tree with leaves = 4 and depth = 3\n",
            "[LightGBM] [Warning] No further splits with positive gain, best gain: -inf\n",
            "[LightGBM] [Debug] Trained a tree with leaves = 3 and depth = 2\n",
            "[LightGBM] [Warning] No further splits with positive gain, best gain: -inf\n",
            "[LightGBM] [Debug] Trained a tree with leaves = 4 and depth = 3\n",
            "[LightGBM] [Warning] No further splits with positive gain, best gain: -inf\n",
            "[LightGBM] [Debug] Trained a tree with leaves = 3 and depth = 2\n",
            "[LightGBM] [Warning] No further splits with positive gain, best gain: -inf\n",
            "[LightGBM] [Debug] Trained a tree with leaves = 3 and depth = 2\n",
            "[LightGBM] [Warning] No further splits with positive gain, best gain: -inf\n",
            "[LightGBM] [Debug] Trained a tree with leaves = 4 and depth = 3\n",
            "[LightGBM] [Warning] No further splits with positive gain, best gain: -inf\n",
            "[LightGBM] [Debug] Trained a tree with leaves = 4 and depth = 2\n",
            "[LightGBM] [Warning] No further splits with positive gain, best gain: -inf\n",
            "[LightGBM] [Debug] Trained a tree with leaves = 3 and depth = 2\n",
            "[LightGBM] [Warning] No further splits with positive gain, best gain: -inf\n",
            "[LightGBM] [Debug] Trained a tree with leaves = 4 and depth = 2\n",
            "[LightGBM] [Warning] No further splits with positive gain, best gain: -inf\n",
            "[LightGBM] [Debug] Trained a tree with leaves = 3 and depth = 2\n",
            "[LightGBM] [Warning] No further splits with positive gain, best gain: -inf\n",
            "[LightGBM] [Debug] Trained a tree with leaves = 4 and depth = 2\n",
            "[LightGBM] [Warning] No further splits with positive gain, best gain: -inf\n",
            "[LightGBM] [Debug] Trained a tree with leaves = 4 and depth = 3\n",
            "[LightGBM] [Warning] No further splits with positive gain, best gain: -inf\n",
            "[LightGBM] [Debug] Trained a tree with leaves = 3 and depth = 2\n",
            "[LightGBM] [Warning] No further splits with positive gain, best gain: -inf\n",
            "[LightGBM] [Debug] Trained a tree with leaves = 3 and depth = 2\n",
            "[LightGBM] [Warning] No further splits with positive gain, best gain: -inf\n",
            "[LightGBM] [Debug] Trained a tree with leaves = 3 and depth = 2\n",
            "[LightGBM] [Warning] No further splits with positive gain, best gain: -inf\n",
            "[LightGBM] [Debug] Trained a tree with leaves = 3 and depth = 2\n",
            "[LightGBM] [Warning] No further splits with positive gain, best gain: -inf\n",
            "[LightGBM] [Debug] Trained a tree with leaves = 3 and depth = 2\n",
            "[LightGBM] [Warning] No further splits with positive gain, best gain: -inf\n",
            "[LightGBM] [Debug] Trained a tree with leaves = 3 and depth = 2\n",
            "[LightGBM] [Warning] No further splits with positive gain, best gain: -inf\n",
            "[LightGBM] [Debug] Trained a tree with leaves = 3 and depth = 2\n",
            "[LightGBM] [Warning] No further splits with positive gain, best gain: -inf\n",
            "[LightGBM] [Debug] Trained a tree with leaves = 3 and depth = 2\n",
            "[LightGBM] [Warning] No further splits with positive gain, best gain: -inf\n",
            "[LightGBM] [Debug] Trained a tree with leaves = 3 and depth = 2\n",
            "[LightGBM] [Warning] No further splits with positive gain, best gain: -inf\n",
            "[LightGBM] [Debug] Trained a tree with leaves = 3 and depth = 2\n",
            "[LightGBM] [Warning] No further splits with positive gain, best gain: -inf\n",
            "[LightGBM] [Debug] Trained a tree with leaves = 3 and depth = 2\n",
            "[LightGBM] [Warning] No further splits with positive gain, best gain: -inf\n",
            "[LightGBM] [Debug] Trained a tree with leaves = 3 and depth = 2\n",
            "[LightGBM] [Warning] No further splits with positive gain, best gain: -inf\n",
            "[LightGBM] [Debug] Trained a tree with leaves = 3 and depth = 2\n",
            "[LightGBM] [Warning] No further splits with positive gain, best gain: -inf\n",
            "[LightGBM] [Debug] Trained a tree with leaves = 3 and depth = 2\n",
            "[LightGBM] [Warning] No further splits with positive gain, best gain: -inf\n",
            "[LightGBM] [Debug] Trained a tree with leaves = 3 and depth = 2\n",
            "[LightGBM] [Warning] No further splits with positive gain, best gain: -inf\n",
            "[LightGBM] [Debug] Trained a tree with leaves = 2 and depth = 1\n",
            "[LightGBM] [Warning] No further splits with positive gain, best gain: -inf\n",
            "[LightGBM] [Debug] Trained a tree with leaves = 3 and depth = 2\n",
            "[LightGBM] [Warning] No further splits with positive gain, best gain: -inf\n",
            "[LightGBM] [Debug] Trained a tree with leaves = 2 and depth = 1\n",
            "[LightGBM] [Warning] No further splits with positive gain, best gain: -inf\n",
            "[LightGBM] [Debug] Trained a tree with leaves = 2 and depth = 1\n",
            "F1 для LGBMClassifier на обучающей выборке: 0.94\n"
          ]
        }
      ],
      "source": [
        "lgbm = LGBMClassifier(iterations=100,\n",
        "                      random_state=0,\n",
        "                      learning_rate=0.4,\n",
        "                      depth=5,\n",
        "                      verbose=10)\n",
        "F1_lgbm = cross_val_score(lgbm, X_train, y_train, scoring='f1', cv=3, error_score='raise').mean()\n",
        "print(\"F1 для LGBMClassifier на обучающей выборке:\", round(F1_lgbm, 2))"
      ]
    },
    {
      "cell_type": "code",
      "execution_count": 105,
      "metadata": {
        "colab": {
          "base_uri": "https://localhost:8080/",
          "height": 142
        },
        "id": "EM36pO5UTuCO",
        "outputId": "12b65aff-28ec-4038-add6-dc3e688cd6e4",
        "trusted": false
      },
      "outputs": [
        {
          "data": {
            "text/html": [
              "\n",
              "  <div id=\"df-70f7f142-fc6c-418b-bd48-edc29bd80fbe\">\n",
              "    <div class=\"colab-df-container\">\n",
              "      <div>\n",
              "<style scoped>\n",
              "    .dataframe tbody tr th:only-of-type {\n",
              "        vertical-align: middle;\n",
              "    }\n",
              "\n",
              "    .dataframe tbody tr th {\n",
              "        vertical-align: top;\n",
              "    }\n",
              "\n",
              "    .dataframe thead th {\n",
              "        text-align: right;\n",
              "    }\n",
              "</style>\n",
              "<table border=\"1\" class=\"dataframe\">\n",
              "  <thead>\n",
              "    <tr style=\"text-align: right;\">\n",
              "      <th></th>\n",
              "      <th>F1</th>\n",
              "    </tr>\n",
              "  </thead>\n",
              "  <tbody>\n",
              "    <tr>\n",
              "      <th>LogisticRegression</th>\n",
              "      <td>0.94</td>\n",
              "    </tr>\n",
              "    <tr>\n",
              "      <th>CatBoostClassifier</th>\n",
              "      <td>0.93</td>\n",
              "    </tr>\n",
              "    <tr>\n",
              "      <th>LGBMClassifier</th>\n",
              "      <td>0.94</td>\n",
              "    </tr>\n",
              "  </tbody>\n",
              "</table>\n",
              "</div>\n",
              "      <button class=\"colab-df-convert\" onclick=\"convertToInteractive('df-70f7f142-fc6c-418b-bd48-edc29bd80fbe')\"\n",
              "              title=\"Convert this dataframe to an interactive table.\"\n",
              "              style=\"display:none;\">\n",
              "        \n",
              "  <svg xmlns=\"http://www.w3.org/2000/svg\" height=\"24px\"viewBox=\"0 0 24 24\"\n",
              "       width=\"24px\">\n",
              "    <path d=\"M0 0h24v24H0V0z\" fill=\"none\"/>\n",
              "    <path d=\"M18.56 5.44l.94 2.06.94-2.06 2.06-.94-2.06-.94-.94-2.06-.94 2.06-2.06.94zm-11 1L8.5 8.5l.94-2.06 2.06-.94-2.06-.94L8.5 2.5l-.94 2.06-2.06.94zm10 10l.94 2.06.94-2.06 2.06-.94-2.06-.94-.94-2.06-.94 2.06-2.06.94z\"/><path d=\"M17.41 7.96l-1.37-1.37c-.4-.4-.92-.59-1.43-.59-.52 0-1.04.2-1.43.59L10.3 9.45l-7.72 7.72c-.78.78-.78 2.05 0 2.83L4 21.41c.39.39.9.59 1.41.59.51 0 1.02-.2 1.41-.59l7.78-7.78 2.81-2.81c.8-.78.8-2.07 0-2.86zM5.41 20L4 18.59l7.72-7.72 1.47 1.35L5.41 20z\"/>\n",
              "  </svg>\n",
              "      </button>\n",
              "      \n",
              "  <style>\n",
              "    .colab-df-container {\n",
              "      display:flex;\n",
              "      flex-wrap:wrap;\n",
              "      gap: 12px;\n",
              "    }\n",
              "\n",
              "    .colab-df-convert {\n",
              "      background-color: #E8F0FE;\n",
              "      border: none;\n",
              "      border-radius: 50%;\n",
              "      cursor: pointer;\n",
              "      display: none;\n",
              "      fill: #1967D2;\n",
              "      height: 32px;\n",
              "      padding: 0 0 0 0;\n",
              "      width: 32px;\n",
              "    }\n",
              "\n",
              "    .colab-df-convert:hover {\n",
              "      background-color: #E2EBFA;\n",
              "      box-shadow: 0px 1px 2px rgba(60, 64, 67, 0.3), 0px 1px 3px 1px rgba(60, 64, 67, 0.15);\n",
              "      fill: #174EA6;\n",
              "    }\n",
              "\n",
              "    [theme=dark] .colab-df-convert {\n",
              "      background-color: #3B4455;\n",
              "      fill: #D2E3FC;\n",
              "    }\n",
              "\n",
              "    [theme=dark] .colab-df-convert:hover {\n",
              "      background-color: #434B5C;\n",
              "      box-shadow: 0px 1px 3px 1px rgba(0, 0, 0, 0.15);\n",
              "      filter: drop-shadow(0px 1px 2px rgba(0, 0, 0, 0.3));\n",
              "      fill: #FFFFFF;\n",
              "    }\n",
              "  </style>\n",
              "\n",
              "      <script>\n",
              "        const buttonEl =\n",
              "          document.querySelector('#df-70f7f142-fc6c-418b-bd48-edc29bd80fbe button.colab-df-convert');\n",
              "        buttonEl.style.display =\n",
              "          google.colab.kernel.accessAllowed ? 'block' : 'none';\n",
              "\n",
              "        async function convertToInteractive(key) {\n",
              "          const element = document.querySelector('#df-70f7f142-fc6c-418b-bd48-edc29bd80fbe');\n",
              "          const dataTable =\n",
              "            await google.colab.kernel.invokeFunction('convertToInteractive',\n",
              "                                                     [key], {});\n",
              "          if (!dataTable) return;\n",
              "\n",
              "          const docLinkHtml = 'Like what you see? Visit the ' +\n",
              "            '<a target=\"_blank\" href=https://colab.research.google.com/notebooks/data_table.ipynb>data table notebook</a>'\n",
              "            + ' to learn more about interactive tables.';\n",
              "          element.innerHTML = '';\n",
              "          dataTable['output_type'] = 'display_data';\n",
              "          await google.colab.output.renderOutput(dataTable, element);\n",
              "          const docLink = document.createElement('div');\n",
              "          docLink.innerHTML = docLinkHtml;\n",
              "          element.appendChild(docLink);\n",
              "        }\n",
              "      </script>\n",
              "    </div>\n",
              "  </div>\n",
              "  "
            ],
            "text/plain": [
              "                      F1\n",
              "LogisticRegression  0.94\n",
              "CatBoostClassifier  0.93\n",
              "LGBMClassifier      0.94"
            ]
          },
          "execution_count": 105,
          "metadata": {},
          "output_type": "execute_result"
        }
      ],
      "source": [
        "pd.DataFrame(data = [[round(F1_lg, 2)],\n",
        "                    [round(F1_cat, 2)],\n",
        "                    [round(F1_lgbm, 2)]],\n",
        "             index = ['LogisticRegression', 'CatBoostClassifier', 'LGBMClassifier'],\n",
        "             columns = ['F1']\n",
        "             )"
      ]
    },
    {
      "cell_type": "markdown",
      "metadata": {
        "id": "cCLKiwTcu3n5"
      },
      "source": [
        "### Логистическая регрессия на тестовой выборке\n"
      ]
    },
    {
      "cell_type": "code",
      "execution_count": 106,
      "metadata": {
        "colab": {
          "base_uri": "https://localhost:8080/"
        },
        "id": "RuLoR4TGREcY",
        "outputId": "52b57c5f-ba04-4e92-a37c-b88ff852ea35",
        "trusted": false
      },
      "outputs": [
        {
          "name": "stdout",
          "output_type": "stream",
          "text": [
            "F1 для LogisticRegression на тестовой выборке: 0.93\n"
          ]
        }
      ],
      "source": [
        "model_lg_t = LogisticRegression(random_state=0)\n",
        "model_lg_t.fit(X_train, y_train)\n",
        "prediction = model_lg_t.predict(X_test)\n",
        "f1_t = f1_score(y_test, prediction, average='binary')\n",
        "print(\"F1 для LogisticRegression на тестовой выборке:\", round(f1_t, 2))"
      ]
    },
    {
      "cell_type": "code",
      "execution_count": 107,
      "metadata": {
        "colab": {
          "base_uri": "https://localhost:8080/",
          "height": 549
        },
        "id": "8Icla9EeqkDR",
        "outputId": "0d27d99a-ea92-4a0c-f662-8fe4759dbebc"
      },
      "outputs": [
        {
          "data": {
            "image/png": "[encoded data removed]",
            "text/plain": [
              "<Figure size 1200x600 with 1 Axes>"
            ]
          },
          "metadata": {},
          "output_type": "display_data"
        }
      ],
      "source": [
        "# Визуализирую реальные и предсказанные значения тестовой выборки\n",
        "def graph_analis(true, predict):\n",
        "    f1 = f1_score(y_test, predict)\n",
        "    plt.figure(figsize=(12,6))\n",
        "    true.plot(kind='kde', linewidth=2)\n",
        "    pd.Series(predict).plot(kind='kde',linewidth=2, linestyle = '--')\n",
        "    plt.title('График распределения плотности предсказанных и истинных значений', y=1.01)\n",
        "    plt.legend(['Истинные значения','Предсказанные значения'])\n",
        "    plt.text(0.75,6,'F1= {:.2f}'.format(f1))\n",
        "    plt.xlabel('')\n",
        "    plt.ylabel('Плотность')\n",
        "    plt.show()\n",
        "\n",
        "graph_analis(y_test, prediction)"
      ]
    },
    {
      "cell_type": "markdown",
      "metadata": {
        "id": "GQwumrbVR69T"
      },
      "source": [
        "## Общий вывод\n",
        "\n",
        "Было проведено исследование где необходимо было найти инструмент, который будет искать токсичные комментарии и отправлять их на модерацию.\n",
        "\n",
        "В ходе работы была реализована модель BERT, данная модель лучше подходит для работы с текстовыми данными.\n",
        "\n",
        "Для обучения были выбраны модели: LogisticRegression, LaitGBMClassifier и CatBoostClassifier, на обучающей выборке все модели показали почти одинаковый результат в 0.94, LogisticRegression показала 0.95 окгда пороговое значение было 0.75, в ходе проверки на тестовых данных взяли Логистическую регрессию котрая показла результат в 0.93."
      ]
    }
  ],
  "metadata": {
    "ExecuteTimeLog": [
      {
        "duration": 2377,
        "start_time": "2023-05-21T12:57:49.013Z"
      },
      {
        "duration": 1276,
        "start_time": "2023-05-21T12:57:51.393Z"
      },
      {
        "duration": 1834,
        "start_time": "2023-05-21T12:57:52.670Z"
      },
      {
        "duration": 1821,
        "start_time": "2023-05-21T12:57:54.506Z"
      },
      {
        "duration": 1845,
        "start_time": "2023-05-21T12:57:56.330Z"
      },
      {
        "duration": 4716,
        "start_time": "2023-05-21T12:57:58.177Z"
      },
      {
        "duration": 4721,
        "start_time": "2023-05-21T12:58:02.894Z"
      },
      {
        "duration": 326,
        "start_time": "2023-05-21T12:58:07.617Z"
      },
      {
        "duration": 12,
        "start_time": "2023-05-21T12:58:07.944Z"
      },
      {
        "duration": 24,
        "start_time": "2023-05-21T12:58:07.957Z"
      },
      {
        "duration": 14074,
        "start_time": "2023-05-21T12:58:07.982Z"
      },
      {
        "duration": 2354,
        "start_time": "2023-05-21T12:58:22.058Z"
      },
      {
        "duration": 73,
        "start_time": "2023-05-21T12:58:24.413Z"
      },
      {
        "duration": 17,
        "start_time": "2023-05-21T12:58:24.490Z"
      }
    ],
    "accelerator": "GPU",
    "colab": {
      "gpuType": "T4",
      "provenance": []
    },
    "gpuClass": "standard",
    "kernelspec": {
      "display_name": "Python 3.9.15 ('ds_practicum_env': conda)",
      "language": "python",
      "name": "python3"
    },
    "language_info": {
      "codemirror_mode": {
        "name": "ipython",
        "version": 3
      },
      "file_extension": ".py",
      "mimetype": "text/x-python",
      "name": "python",
      "nbconvert_exporter": "python",
      "pygments_lexer": "ipython3",
      "version": "3.9.15"
    },
    "toc": {
      "base_numbering": 1,
      "nav_menu": {},
      "number_sections": true,
      "sideBar": true,
      "skip_h1_title": true,
      "title_cell": "Table of Contents",
      "title_sidebar": "Contents",
      "toc_cell": false,
      "toc_position": {},
      "toc_section_display": true,
      "toc_window_display": false
    },
    "vscode": {
      "interpreter": {
        "hash": "1df244ae2a047b6115252605495e8197b76f4bd06758aaad85ecd83373614ee7"
      }
    },
    "widgets": {
      "application/vnd.jupyter.widget-state+json": {
        "06b198bf1c4443b2a14844e8f5b9b0b4": {
          "model_module": "@jupyter-widgets/controls",
          "model_module_version": "1.5.0",
          "model_name": "HBoxModel",
          "state": {
            "_dom_classes": [],
            "_model_module": "@jupyter-widgets/controls",
            "_model_module_version": "1.5.0",
            "_model_name": "HBoxModel",
            "_view_count": null,
            "_view_module": "@jupyter-widgets/controls",
            "_view_module_version": "1.5.0",
            "_view_name": "HBoxView",
            "box_style": "",
            "children": [
              "IPY_MODEL_ebeec94b63c240748bdabbedeaf8a20c",
              "IPY_MODEL_473eb84a4e104112921a1bd09147a666",
              "IPY_MODEL_4e0c4f417a224e0b957d214ce53fa464"
            ],
            "layout": "IPY_MODEL_fc430862a3bd412ba4a52602c55a470b"
          }
        },
        "199ce3446bd349ce95a0f1bba8409a8b": {
          "model_module": "@jupyter-widgets/base",
          "model_module_version": "1.2.0",
          "model_name": "LayoutModel",
          "state": {
            "_model_module": "@jupyter-widgets/base",
            "_model_module_version": "1.2.0",
            "_model_name": "LayoutModel",
            "_view_count": null,
            "_view_module": "@jupyter-widgets/base",
            "_view_module_version": "1.2.0",
            "_view_name": "LayoutView",
            "align_content": null,
            "align_items": null,
            "align_self": null,
            "border": null,
            "bottom": null,
            "display": null,
            "flex": null,
            "flex_flow": null,
            "grid_area": null,
            "grid_auto_columns": null,
            "grid_auto_flow": null,
            "grid_auto_rows": null,
            "grid_column": null,
            "grid_gap": null,
            "grid_row": null,
            "grid_template_areas": null,
            "grid_template_columns": null,
            "grid_template_rows": null,
            "height": null,
            "justify_content": null,
            "justify_items": null,
            "left": null,
            "margin": null,
            "max_height": null,
            "max_width": null,
            "min_height": null,
            "min_width": null,
            "object_fit": null,
            "object_position": null,
            "order": null,
            "overflow": null,
            "overflow_x": null,
            "overflow_y": null,
            "padding": null,
            "right": null,
            "top": null,
            "visibility": null,
            "width": null
          }
        },
        "473eb84a4e104112921a1bd09147a666": {
          "model_module": "@jupyter-widgets/controls",
          "model_module_version": "1.5.0",
          "model_name": "FloatProgressModel",
          "state": {
            "_dom_classes": [],
            "_model_module": "@jupyter-widgets/controls",
            "_model_module_version": "1.5.0",
            "_model_name": "FloatProgressModel",
            "_view_count": null,
            "_view_module": "@jupyter-widgets/controls",
            "_view_module_version": "1.5.0",
            "_view_name": "ProgressView",
            "bar_style": "success",
            "description": "",
            "description_tooltip": null,
            "layout": "IPY_MODEL_199ce3446bd349ce95a0f1bba8409a8b",
            "max": 200,
            "min": 0,
            "orientation": "horizontal",
            "style": "IPY_MODEL_8fa462a0cbf74c38aa53cf12557abdeb",
            "value": 200
          }
        },
        "4e0c4f417a224e0b957d214ce53fa464": {
          "model_module": "@jupyter-widgets/controls",
          "model_module_version": "1.5.0",
          "model_name": "HTMLModel",
          "state": {
            "_dom_classes": [],
            "_model_module": "@jupyter-widgets/controls",
            "_model_module_version": "1.5.0",
            "_model_name": "HTMLModel",
            "_view_count": null,
            "_view_module": "@jupyter-widgets/controls",
            "_view_module_version": "1.5.0",
            "_view_name": "HTMLView",
            "description": "",
            "description_tooltip": null,
            "layout": "IPY_MODEL_8cdba0dc636e4c5fa44ab3a2bdf09de5",
            "placeholder": "​",
            "style": "IPY_MODEL_a891259b240240068e0c12bc43c589cb",
            "value": " 200/200 [10:31&lt;00:00,  3.14s/it]"
          }
        },
        "8cdba0dc636e4c5fa44ab3a2bdf09de5": {
          "model_module": "@jupyter-widgets/base",
          "model_module_version": "1.2.0",
          "model_name": "LayoutModel",
          "state": {
            "_model_module": "@jupyter-widgets/base",
            "_model_module_version": "1.2.0",
            "_model_name": "LayoutModel",
            "_view_count": null,
            "_view_module": "@jupyter-widgets/base",
            "_view_module_version": "1.2.0",
            "_view_name": "LayoutView",
            "align_content": null,
            "align_items": null,
            "align_self": null,
            "border": null,
            "bottom": null,
            "display": null,
            "flex": null,
            "flex_flow": null,
            "grid_area": null,
            "grid_auto_columns": null,
            "grid_auto_flow": null,
            "grid_auto_rows": null,
            "grid_column": null,
            "grid_gap": null,
            "grid_row": null,
            "grid_template_areas": null,
            "grid_template_columns": null,
            "grid_template_rows": null,
            "height": null,
            "justify_content": null,
            "justify_items": null,
            "left": null,
            "margin": null,
            "max_height": null,
            "max_width": null,
            "min_height": null,
            "min_width": null,
            "object_fit": null,
            "object_position": null,
            "order": null,
            "overflow": null,
            "overflow_x": null,
            "overflow_y": null,
            "padding": null,
            "right": null,
            "top": null,
            "visibility": null,
            "width": null
          }
        },
        "8fa462a0cbf74c38aa53cf12557abdeb": {
          "model_module": "@jupyter-widgets/controls",
          "model_module_version": "1.5.0",
          "model_name": "ProgressStyleModel",
          "state": {
            "_model_module": "@jupyter-widgets/controls",
            "_model_module_version": "1.5.0",
            "_model_name": "ProgressStyleModel",
            "_view_count": null,
            "_view_module": "@jupyter-widgets/base",
            "_view_module_version": "1.2.0",
            "_view_name": "StyleView",
            "bar_color": null,
            "description_width": ""
          }
        },
        "a79bb3009b2a4c42a71957569c7ad74e": {
          "model_module": "@jupyter-widgets/base",
          "model_module_version": "1.2.0",
          "model_name": "LayoutModel",
          "state": {
            "_model_module": "@jupyter-widgets/base",
            "_model_module_version": "1.2.0",
            "_model_name": "LayoutModel",
            "_view_count": null,
            "_view_module": "@jupyter-widgets/base",
            "_view_module_version": "1.2.0",
            "_view_name": "LayoutView",
            "align_content": null,
            "align_items": null,
            "align_self": null,
            "border": null,
            "bottom": null,
            "display": null,
            "flex": null,
            "flex_flow": null,
            "grid_area": null,
            "grid_auto_columns": null,
            "grid_auto_flow": null,
            "grid_auto_rows": null,
            "grid_column": null,
            "grid_gap": null,
            "grid_row": null,
            "grid_template_areas": null,
            "grid_template_columns": null,
            "grid_template_rows": null,
            "height": null,
            "justify_content": null,
            "justify_items": null,
            "left": null,
            "margin": null,
            "max_height": null,
            "max_width": null,
            "min_height": null,
            "min_width": null,
            "object_fit": null,
            "object_position": null,
            "order": null,
            "overflow": null,
            "overflow_x": null,
            "overflow_y": null,
            "padding": null,
            "right": null,
            "top": null,
            "visibility": null,
            "width": null
          }
        },
        "a891259b240240068e0c12bc43c589cb": {
          "model_module": "@jupyter-widgets/controls",
          "model_module_version": "1.5.0",
          "model_name": "DescriptionStyleModel",
          "state": {
            "_model_module": "@jupyter-widgets/controls",
            "_model_module_version": "1.5.0",
            "_model_name": "DescriptionStyleModel",
            "_view_count": null,
            "_view_module": "@jupyter-widgets/base",
            "_view_module_version": "1.2.0",
            "_view_name": "StyleView",
            "description_width": ""
          }
        },
        "e7f5cc275c644838b060cf85ce32d20f": {
          "model_module": "@jupyter-widgets/controls",
          "model_module_version": "1.5.0",
          "model_name": "DescriptionStyleModel",
          "state": {
            "_model_module": "@jupyter-widgets/controls",
            "_model_module_version": "1.5.0",
            "_model_name": "DescriptionStyleModel",
            "_view_count": null,
            "_view_module": "@jupyter-widgets/base",
            "_view_module_version": "1.2.0",
            "_view_name": "StyleView",
            "description_width": ""
          }
        },
        "ebeec94b63c240748bdabbedeaf8a20c": {
          "model_module": "@jupyter-widgets/controls",
          "model_module_version": "1.5.0",
          "model_name": "HTMLModel",
          "state": {
            "_dom_classes": [],
            "_model_module": "@jupyter-widgets/controls",
            "_model_module_version": "1.5.0",
            "_model_name": "HTMLModel",
            "_view_count": null,
            "_view_module": "@jupyter-widgets/controls",
            "_view_module_version": "1.5.0",
            "_view_name": "HTMLView",
            "description": "",
            "description_tooltip": null,
            "layout": "IPY_MODEL_a79bb3009b2a4c42a71957569c7ad74e",
            "placeholder": "​",
            "style": "IPY_MODEL_e7f5cc275c644838b060cf85ce32d20f",
            "value": "100%"
          }
        },
        "fc430862a3bd412ba4a52602c55a470b": {
          "model_module": "@jupyter-widgets/base",
          "model_module_version": "1.2.0",
          "model_name": "LayoutModel",
          "state": {
            "_model_module": "@jupyter-widgets/base",
            "_model_module_version": "1.2.0",
            "_model_name": "LayoutModel",
            "_view_count": null,
            "_view_module": "@jupyter-widgets/base",
            "_view_module_version": "1.2.0",
            "_view_name": "LayoutView",
            "align_content": null,
            "align_items": null,
            "align_self": null,
            "border": null,
            "bottom": null,
            "display": null,
            "flex": null,
            "flex_flow": null,
            "grid_area": null,
            "grid_auto_columns": null,
            "grid_auto_flow": null,
            "grid_auto_rows": null,
            "grid_column": null,
            "grid_gap": null,
            "grid_row": null,
            "grid_template_areas": null,
            "grid_template_columns": null,
            "grid_template_rows": null,
            "height": null,
            "justify_content": null,
            "justify_items": null,
            "left": null,
            "margin": null,
            "max_height": null,
            "max_width": null,
            "min_height": null,
            "min_width": null,
            "object_fit": null,
            "object_position": null,
            "order": null,
            "overflow": null,
            "overflow_x": null,
            "overflow_y": null,
            "padding": null,
            "right": null,
            "top": null,
            "visibility": null,
            "width": null
          }
        }
      }
    }
  },
  "nbformat": 4,
  "nbformat_minor": 0
}
